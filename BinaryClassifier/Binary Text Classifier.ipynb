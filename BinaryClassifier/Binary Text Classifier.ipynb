{
	"cells": [{
			"cell_type": "markdown",
			"metadata": {},
			"source": [
				"# Sentiment Classification (Binary) on Imdb Review Dataset\n"
			]
		}, {
			"cell_type": "code",
			"execution_count": 3,
			"metadata": {},
			"outputs": [{
					"name": "stdout",
					"output_type": "stream",
					"text": [
						"The autoreload extension is already loaded. To reload it, use:\n",
						"  %reload_ext autoreload\n"
					]
				}
			],
			"source": [
				"# Imports\n",
				"\n",
				"import sys\n",
				"import os\n",
				"import re\n",
				"import importlib\n",
				"import numpy as np\n",
				"import string\n",
				"from datetime import datetime\n",
				"from bunch import Bunch\n",
				"from sklearn.utils import shuffle\n",
				"import torch\n",
				"import torch.nn as nn\n",
				"import torch.optim as optim\n",
				"\n",
				"%matplotlib inline\n",
				"import matplotlib.pyplot as plt\n",
				"\n",
				"%load_ext autoreload\n",
				"%autoreload 2"
			]
		}, {
			"cell_type": "code",
			"execution_count": 4,
			"metadata": {},
			"outputs": [],
			"source": [
				"# tokenization regex\n",
				"regex = re.compile(r'[\\s{}]+'.format(re.escape(string.punctuation)))\n",
				"\n",
				"def preprocess_text(text):\n",
				"    text = re.sub(r'<.*>?', '', text)   # remove html tags\n",
				"    tokens = [t for t in regex.split(text.lower()) if t != '']\n",
				"    tokens = [t for t in tokens if str_has_letter(t)]   # keep tokens that have at least one letter\n",
				"    return ' '.join(tokens)\n",
				"\n",
				"def str_has_letter(input_str):\n",
				"    for c in input_str:\n",
				"        if c.isalpha():\n",
				"            return True\n",
				"    return False"
			]
		}, {
			"cell_type": "code",
			"execution_count": 5,
			"metadata": {},
			"outputs": [{
					"name": "stdout",
					"output_type": "stream",
					"text": [
						"[2019-11-24 09:37:14.429695] Loading data ...\n",
						"[2019-11-24 09:42:23.377856] Building vocab and loading glove embeddings ...\n",
						"[2019-11-24 09:42:35.178314] Creating X, y sequences ...\n",
						"[2019-11-24 09:42:40.427128] Padding X, y sequences ...\n"
					]
				}
			],
			"source": [
				"from helpers.dataset import Dataset\n",
				"\n",
				"glove_file = '/Users/gaurish/Drive/Workspace/Data/glove.6B/glove.6B.100d.txt'\n",
				"data_root = '/Users/gaurish/Drive/Workspace/Data/aclImdb'\n",
				"categories = ['neg', 'pos']\n",
				"\n",
				"# Load dataset\n",
				"ds = Dataset(num_classes=2)\n",
				"print('[{}] Loading data ...'.format(datetime.now()))\n",
				"ds.load_dataset_from_dir(os.path.join(data_root, 'train'), os.path.join(data_root, 'test'), categories, preprocess_text)\n",
				"\n",
				"print('[{}] Building vocab and loading glove embeddings ...'.format(datetime.now()))\n",
				"ds.build_vocab()\n",
				"ds.load_word_embeddings(glove_file)\n",
				"\n",
				"print('[{}] Creating X, y sequences ...'.format(datetime.now()))\n",
				"ds.compute_Xy()\n",
				"\n",
				"print('[{}] Padding X, y sequences ...'.format(datetime.now()))\n",
				"ds.pad_Xy(fixed_max_len=30)"
			]
		}, {
			"cell_type": "code",
			"execution_count": 6,
			"metadata": {},
			"outputs": [{
					"name": "stdout",
					"output_type": "stream",
					"text": [
						"Number of Raw Training records: 25000 examples, 25000 labels \n",
						"Number of Raw Test records: 25000 examples, 25000 labels \n",
						"Target Names: ['neg', 'pos']\n",
						"Label distribution in Training Set\n",
						"[[    0 12500]\n",
						" [    1 12500]]\n",
						"Label distribution in Test Set\n",
						"[[    0 12500]\n",
						" [    1 12500]]\n",
						"Vocab Size:  53858\n",
						"shape(word_embeddings):  (46197, 100)\n",
						"Top 5 Words in word2index map ['$PAD$(0)', '$UNK$(1)', 'the(2)', 'of(3)', 'to(4)', 'and(5)']\n",
						"shape(ds.X_train) =  (25000, 30)  dtype(ds.X_train) =  int64\n",
						"shape(ds.y_train) =  (25000, 1)  dtype(ds.y_train) =  int64\n",
						"shape(ds.X_test) =  (25000, 30)  dtype(ds.X_test) =  int64\n",
						"shape(ds.y_test) =  (25000, 1)  dtype(ds.y_test) =  int64\n",
						"Top 5 training examples:\n",
						"[#1]\t [0]\n",
						"\t [  30  926   11  155 1273 6414  295    6    2  306]\n",
						"\t this movie is another christian propaganda film in the line of the omega code not that that is necessarily bad but for the fact that most propaganda films sacrifice sincerity\n",
						"[#2]\t [1]\n",
						"\t [    7   727    31 15582  6986  6432 33842     5    60   590]\n",
						"\t a woman who hates cats alice krige and her son brian krause have moved into a small town and must deal with a mean teacher glenn shadix their incestuous relationship\n",
						"[#3]\t [0]\n",
						"\t [10100  2917    11     7   251     9    11    63 20602 45464]\n",
						"\t beast wars is a show that is over hyped overpraised and overrated let s meet the characters of this obnoxious show whose creators must have been on acid to try\n",
						"[#4]\t [1]\n",
						"\t [   22  4020   813     3  9376 12716    16    17  1423    43]\n",
						"\t an excellent example of cowboy noir as it s been called in which unemployed michael nicolas cage loses out on a job because he insists on being honest he s\n",
						"[#5]\t [1]\n",
						"\t [ 4474  4789    30    11     7 15981 12299 11289   926    27]\n",
						"\t ok basically this is a popcorn sci fi movie but from the outset its obvious that it has been directed with a great deal of intelligence you can count about\n"
					]
				}
			],
			"source": [
				"def print_stats(ds):\n",
				"\n",
				"    print('Number of Raw Training records: {} examples, {} labels '.format(\n",
				"        len(ds.raw_train.data), len(ds.raw_train.target)))\n",
				"    print('Number of Raw Test records: {} examples, {} labels '.format(\n",
				"        len(ds.raw_test.data), len(ds.raw_test.target)))\n",
				"    print('Target Names:', ds.raw_train.target_names)\n",
				"\n",
				"    print('Label distribution in Training Set')\n",
				"    print(np.asarray(np.unique(ds.raw_train.target, return_counts=True)).T)\n",
				"    print('Label distribution in Test Set')\n",
				"    print(np.asarray(np.unique(ds.raw_test.target, return_counts=True)).T)\n",
				"\n",
				"    print('Vocab Size: ', len(ds.vocab))\n",
				"    print('shape(word_embeddings): ', ds.word_embeddings.shape)\n",
				"    print('Top 5 Words in word2index map', ['{}({})'.format(w, i) for w, i in ds.word2index.items() if i <= 5])\n",
				"\n",
				"    print('shape(ds.X_train) = ', ds.X_train.shape, ' dtype(ds.X_train) = ', ds.X_train.dtype)\n",
				"    print('shape(ds.y_train) = ', ds.y_train.shape, ' dtype(ds.y_train) = ', ds.y_train.dtype)\n",
				"    print('shape(ds.X_test) = ', ds.X_test.shape, ' dtype(ds.X_test) = ', ds.X_test.dtype)\n",
				"    print('shape(ds.y_test) = ', ds.y_test.shape, ' dtype(ds.y_test) = ', ds.y_test.dtype)\n",
				"\n",
				"    print('Top 5 training examples:')\n",
				"    for i in range(5):\n",
				"        print('[#{}]\\t {}'.format(i + 1, ds.y_train[i]))\n",
				"        print('\\t', ds.X_train[i][:10])\n",
				"        print('\\t', ' '.join(ds.raw_train.data[i].split()[:30]))\n",
				"        \n",
				"print_stats(ds)"
			]
		}, {
			"cell_type": "code",
			"execution_count": 7,
			"metadata": {},
			"outputs": [{
					"name": "stdout",
					"output_type": "stream",
					"text": [
						"shape(X_train) =  (7000, 30)  dtype(X_train) =  int64\n",
						"shape(y_train) =  (7000, 1)  dtype(y_train) =  int64\n",
						"shape(X_val) =  (3000, 30)  dtype(X_val) =  int64\n",
						"shape(y_val) =  (3000, 1)  dtype(y_val) =  int64\n",
						"Label distribution in Training Set\n",
						"[[   0 3532]\n",
						" [   1 3468]]\n",
						"Label distribution in Validation Set\n",
						"[[   0 1483]\n",
						" [   1 1517]]\n"
					]
				}
			],
			"source": [
				"maxN = min(10000, len(ds.X_train)) \n",
				"split = int(0.7 * maxN)\n",
				"\n",
				"offset = 5000\n",
				"\n",
				"X_train = ds.X_train[offset:offset+split]\n",
				"y_train = ds.y_train[offset:offset+split]\n",
				"X_train_seqlen = ds.X_train_seqlen[offset:offset+split]\n",
				"\n",
				"X_val = ds.X_train[offset+split:offset+maxN]\n",
				"y_val = ds.y_train[offset+split:offset+maxN]\n",
				"X_val_seqlen = ds.X_train_seqlen[offset+split:offset+maxN]\n",
				"\n",
				"word_embeddings = ds.word_embeddings\n",
				"\n",
				"print('shape(X_train) = ', X_train.shape, ' dtype(X_train) = ', X_train.dtype)\n",
				"print('shape(y_train) = ', y_train.shape, ' dtype(y_train) = ', y_train.dtype)\n",
				"print('shape(X_val) = ', X_val.shape, ' dtype(X_val) = ', X_val.dtype)\n",
				"print('shape(y_val) = ', y_val.shape, ' dtype(y_val) = ', y_val.dtype)\n",
				"    \n",
				"print('Label distribution in Training Set')\n",
				"print(np.asarray(np.unique(y_train, return_counts=True)).T)\n",
				"print('Label distribution in Validation Set')\n",
				"print(np.asarray(np.unique(y_val, return_counts=True)).T)"
			]
		}, {
			"cell_type": "code",
			"execution_count": 8,
			"metadata": {},
			"outputs": [],
			"source": [
				"from helpers.utils import mini_batches\n",
				"from helpers.evaluate import evaluate_model, predict_instance\n",
				"\n",
				"class DeepModel:\n",
				"    \n",
				"    def __init__(self, model, lr):\n",
				"        self.model = model\n",
				"        \n",
				"        self.optimizer = optim.Adam(self.model.parameters(), lr=lr)\n",
				"        self.loss_op = nn.BCELoss()  # binary cross entropy loss\n",
				"\n",
				"        self.model.set_optimizer(self.optimizer)\n",
				"        self.model.set_loss_op(self.loss_op)\n",
				"\n",
				"        self.epoch_losses = []\n",
				"        self.epoch_metrics = []\n",
				"        self.train_losses = []\n",
				"        self.val_losses = []\n",
				"        \n",
				"\n",
				"    def train(self, num_epochs, train_X, train_y, train_X_seqlen, val_X, val_y, val_X_seqlen, epoch_interval_for_lr = 3):\n",
				"        for epoch in range(num_epochs):\n",
				"\n",
				"            #X_train, y_train, X_train_seqlen = shuffle(X_train, y_train, X_train_seqlen, random_state=17)\n",
				"            epoch_loss = self.model.run_epoch(train_X, train_y, train_X_seqlen)\n",
				"\n",
				"            accuracy1, correct1, total1, loss1 = evaluate_model(self.model, train_X, train_y, train_X_seqlen, self.model.config.batch_size)\n",
				"            accuracy2, correct2, total2, loss2 = evaluate_model(self.model, val_X, val_y, val_X_seqlen, self.model.config.batch_size)\n",
				"\n",
				"            self.epoch_losses.append(epoch_loss)\n",
				"            self.train_losses.append(loss1)\n",
				"            self.val_losses.append(loss2)\n",
				"            self.epoch_metrics.append('Training: {:.3f}% (={}/{}) L={:.5f}, Validation: {:.3f}% (={}/{}), L={:.5f}'.format(\n",
				"                accuracy1, correct1, total1, loss1, accuracy2, correct2, total2, loss2))\n",
				"            print('Epoch: {}/{}, Loss: {:.8f}, {}'.format(epoch+1, num_epochs, self.epoch_losses[-1], self.epoch_metrics[-1]))\n",
				"\n",
				"            if (epoch + 1) % epoch_interval_for_lr == 0:\n",
				"                # reduce learning rate\n",
				"                for g in self.model.optimizer.param_groups:\n",
				"                    g['lr'] = g['lr'] / 2                    \n",
				"                print('Updated Learning Rate = ', set(g['lr'] for g in self.model.optimizer.param_groups))\n",
				"   \n",
				"\n",
				"    def plot_loss(self):\n",
				"        \n",
				"        plt.plot(self.train_losses)\n",
				"        plt.plot(self.val_losses)\n",
				"        plt.title(type(self.model).__name__)\n",
				"        plt.ylabel('loss')\n",
				"        plt.xlabel('epoch')\n",
				"        plt.legend(['train loss', 'validation loss'], loc='upper right')\n",
				"        plt.show()\n",
				"\n",
				"        \n",
				"    def evaluate(self, test_X, test_y, test_X_seqlen):\n",
				"        accuracy, correct, total, loss = evaluate_model(self.model, test_X, test_y, test_X_seqlen, self.model.config.batch_size)\n",
				"        metric = '{:.3f}% (={}/{}) L={:.5f}'.format(accuracy, correct, total, loss)\n",
				"        print('Test Set Metric: ', metric)\n",
				"        \n",
				"        \n",
				"    def predict(self, ds, input_texts = ['this is a good movie', 'this is worst movie i have seen']):\n",
				"        for text in input_texts:\n",
				"            lbl, score = predict_instance(self.model, ds, text)\n",
				"            print('LABEL = {}, SCORE={:.4f}, INPUT = {}'.format(lbl, score, text))\n",
				"        "
			]
		}, {
			"cell_type": "markdown",
			"metadata": {},
			"source": [
				"# TextRNN"
			]
		}, {
			"cell_type": "code",
			"execution_count": 9,
			"metadata": {},
			"outputs": [],
			"source": [
				"config = Bunch()\n",
				"config.vocab_size, config.embed_size = word_embeddings.shape\n",
				"config.output_size = 1\n",
				"config.hidden_size = 50\n",
				"config.num_lstm_layers = 2\n",
				"config.isBidirectional = True\n",
				"config.dropout_p = 0.5\n",
				"config.batch_size = 64\n",
				"config.lr = 0.001\n",
				"\n",
				"from helpers.TextRNN import TextRNN\n",
				"\n",
				"tm = TextRNN(config, torch.from_numpy(word_embeddings).type(torch.FloatTensor))\n",
				"textRnn = DeepModel(tm, config.lr)"
			]
		}, {
			"cell_type": "code",
			"execution_count": 10,
			"metadata": {},
			"outputs": [{
					"name": "stdout",
					"output_type": "stream",
					"text": [
						"Epoch: 1/10, Loss: 0.68146093, Training: 63.943% (=4476/7000) L=0.64859, Validation: 64.333% (=1930/3000), L=0.64875\n",
						"Epoch: 2/10, Loss: 0.63487897, Training: 65.343% (=4574/7000) L=0.61589, Validation: 65.033% (=1951/3000), L=0.62187\n",
						"Epoch: 3/10, Loss: 0.59105659, Training: 67.557% (=4729/7000) L=0.58096, Validation: 66.633% (=1999/3000), L=0.59612\n",
						"Updated Learning Rate =  {0.0005}\n",
						"Epoch: 4/10, Loss: 0.56217306, Training: 72.043% (=5043/7000) L=0.54062, Validation: 70.500% (=2115/3000), L=0.56358\n",
						"Epoch: 5/10, Loss: 0.54855628, Training: 72.943% (=5106/7000) L=0.52837, Validation: 70.667% (=2120/3000), L=0.56502\n",
						"Epoch: 6/10, Loss: 0.53522162, Training: 74.029% (=5182/7000) L=0.51627, Validation: 70.533% (=2116/3000), L=0.56978\n",
						"Updated Learning Rate =  {0.00025}\n",
						"Epoch: 7/10, Loss: 0.52112955, Training: 74.629% (=5224/7000) L=0.50475, Validation: 71.167% (=2135/3000), L=0.55823\n",
						"Epoch: 8/10, Loss: 0.51259383, Training: 74.943% (=5246/7000) L=0.49910, Validation: 70.733% (=2122/3000), L=0.55988\n",
						"Epoch: 9/10, Loss: 0.50548543, Training: 75.757% (=5303/7000) L=0.49035, Validation: 71.133% (=2134/3000), L=0.56174\n",
						"Updated Learning Rate =  {0.000125}\n",
						"Epoch: 10/10, Loss: 0.49606709, Training: 76.371% (=5346/7000) L=0.48259, Validation: 71.267% (=2138/3000), L=0.55747\n"
					]
				}, {
					"data": {
						"image/png": "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\n",
						"text/plain": [
							"<Figure size 432x288 with 1 Axes>"
						]
					},
					"metadata": {
						"needs_background": "light"
					},
					"output_type": "display_data"
				}, {
					"name": "stdout",
					"output_type": "stream",
					"text": [
						"==== EVALUATION ===== \n",
						"Test Set Metric:  69.860% (=17465/25000) L=0.56248\n",
						"==== PREDICT ===== \n",
						"LABEL = 1, SCORE=0.9258, INPUT = this is a good movie\n",
						"LABEL = 0, SCORE=0.0246, INPUT = this is worst movie i have seen\n"
					]
				}
			],
			"source": [
				"textRnn.train(10, X_train, y_train, X_train_seqlen, X_val, y_val, X_val_seqlen)\n",
				"\n",
				"textRnn.plot_loss()\n",
				"\n",
				"print('==== EVALUATION ===== ')\n",
				"textRnn.evaluate(ds.X_test, ds.y_test, ds.X_test_seqlen)\n",
				"\n",
				"print('==== PREDICT ===== ')\n",
				"textRnn.predict(ds)"
			]
		}, {
			"cell_type": "markdown",
			"metadata": {},
			"source": [
				"# TextCNN"
			]
		}, {
			"cell_type": "code",
			"execution_count": 11,
			"metadata": {},
			"outputs": [],
			"source": [
				"config = Bunch()\n",
				"config.vocab_size, config.embed_size = word_embeddings.shape\n",
				"config.output_size = 1\n",
				"config.max_seq_len = 30\n",
				"config.num_channels = 100\n",
				"config.kernel_size = [3,4,5]\n",
				"config.dropout_p = 0.5\n",
				"config.batch_size = 64\n",
				"config.lr = 0.001\n",
				"\n",
				"from helpers.TextCNN import TextCNN\n",
				"\n",
				"tm = TextCNN(config, torch.from_numpy(word_embeddings).type(torch.FloatTensor))\n",
				"\n",
				"textCnn = DeepModel(tm, config.lr)"
			]
		}, {
			"cell_type": "code",
			"execution_count": 12,
			"metadata": {},
			"outputs": [{
					"name": "stdout",
					"output_type": "stream",
					"text": [
						"Epoch: 1/10, Loss: 0.66862944, Training: 65.171% (=4562/7000) L=0.61146, Validation: 62.367% (=1871/3000), L=0.63570\n",
						"Epoch: 2/10, Loss: 0.59471582, Training: 70.829% (=4958/7000) L=0.55527, Validation: 65.967% (=1979/3000), L=0.60533\n",
						"Epoch: 3/10, Loss: 0.54777174, Training: 77.943% (=5456/7000) L=0.49225, Validation: 69.333% (=2080/3000), L=0.57582\n",
						"Updated Learning Rate =  {0.0005}\n",
						"Epoch: 4/10, Loss: 0.49822399, Training: 80.229% (=5616/7000) L=0.46029, Validation: 69.700% (=2091/3000), L=0.57552\n",
						"Epoch: 5/10, Loss: 0.47009369, Training: 82.857% (=5800/7000) L=0.42839, Validation: 70.133% (=2104/3000), L=0.57257\n",
						"Epoch: 6/10, Loss: 0.44536709, Training: 84.100% (=5887/7000) L=0.40632, Validation: 69.867% (=2096/3000), L=0.57917\n",
						"Updated Learning Rate =  {0.00025}\n",
						"Epoch: 7/10, Loss: 0.41504020, Training: 86.229% (=6036/7000) L=0.37286, Validation: 71.000% (=2130/3000), L=0.56350\n",
						"Epoch: 8/10, Loss: 0.39366246, Training: 87.543% (=6128/7000) L=0.35321, Validation: 70.867% (=2126/3000), L=0.56232\n",
						"Epoch: 9/10, Loss: 0.37769361, Training: 89.214% (=6245/7000) L=0.33289, Validation: 70.833% (=2125/3000), L=0.56141\n",
						"Updated Learning Rate =  {0.000125}\n",
						"Epoch: 10/10, Loss: 0.35738376, Training: 90.957% (=6367/7000) L=0.32060, Validation: 71.033% (=2131/3000), L=0.55946\n"
					]
				}, {
					"data": {
						"image/png": "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\n",
						"text/plain": [
							"<Figure size 432x288 with 1 Axes>"
						]
					},
					"metadata": {
						"needs_background": "light"
					},
					"output_type": "display_data"
				}, {
					"name": "stdout",
					"output_type": "stream",
					"text": [
						"==== EVALUATION ===== \n",
						"Test Set Metric:  70.232% (=17558/25000) L=0.56301\n",
						"==== PREDICT ===== \n",
						"LABEL = 1, SCORE=0.7069, INPUT = this is a good movie\n",
						"LABEL = 0, SCORE=0.0228, INPUT = this is worst movie i have seen\n" w
					]
				}
			],
			"source": [
				"textCnn.train(10, X_train, y_train, X_train_seqlen, X_val, y_val, X_val_seqlen)\n",
				"\n",
				"textCnn.plot_loss()\n",
				"\n",
				"print('==== EVALUATION ===== ')\n",
				"textCnn.evaluate(ds.X_test, ds.y_test, ds.X_test_seqlen)\n",
				"\n",
				"print('==== PREDICT ===== ')\n",
				"textCnn.predict(ds)"
			]
		}, {
			"cell_type": "markdown",
			"metadata": {},
			"source": [
				"# TextRCNN"
			]
		}, {
			"cell_type": "code",
			"execution_count": 31,
			"metadata": {},
			"outputs": [],
			"source": [
				"config = Bunch()\n",
				"config.vocab_size, config.embed_size = word_embeddings.shape\n",
				"config.output_size = 1\n",
				"config.hidden_size = 50\n",
				"config.conv_feature_dim = 50\n",
				"config.num_lstm_layers = 2\n",
				"config.isBidirectional = True\n",
				"config.dropout_p = 0.5\n",
				"config.batch_size = 64\n",
				"config.lr = 0.001\n",
				"\n",
				"from helpers.TextRCNN import TextRCNN\n",
				"\n",
				"tm = TextRCNN(config, torch.from_numpy(word_embeddings).type(torch.FloatTensor))\n",
				"\n",
				"textRcnn = DeepModel(tm, config.lr)"
			]
		}, {
			"cell_type": "code",
			"execution_count": 32,
			"metadata": {},
			"outputs": [{
					"name": "stdout",
					"output_type": "stream",
					"text": [
						"Epoch: 1/10, Loss: 0.67463091, Training: 65.900% (=4613/7000) L=0.62137, Validation: 64.600% (=1938/3000), L=0.63001\n",
						"Epoch: 2/10, Loss: 0.61074100, Training: 69.800% (=4886/7000) L=0.57217, Validation: 69.533% (=2086/3000), L=0.58496\n",
						"Epoch: 3/10, Loss: 0.57755034, Training: 70.829% (=4958/7000) L=0.55040, Validation: 69.600% (=2088/3000), L=0.57638\n",
						"Updated Learning Rate =  {0.0005}\n",
						"Epoch: 4/10, Loss: 0.55207982, Training: 72.371% (=5066/7000) L=0.53029, Validation: 70.700% (=2121/3000), L=0.56458\n",
						"Epoch: 5/10, Loss: 0.53921947, Training: 73.257% (=5128/7000) L=0.52129, Validation: 70.200% (=2106/3000), L=0.56644\n",
						"Epoch: 6/10, Loss: 0.52912344, Training: 74.371% (=5206/7000) L=0.50649, Validation: 71.533% (=2146/3000), L=0.55912\n",
						"Updated Learning Rate =  {0.00025}\n",
						"Epoch: 7/10, Loss: 0.51993279, Training: 74.057% (=5184/7000) L=0.50950, Validation: 71.233% (=2137/3000), L=0.56261\n",
						"Epoch: 8/10, Loss: 0.50757709, Training: 74.386% (=5207/7000) L=0.50830, Validation: 70.933% (=2128/3000), L=0.56856\n",
						"Epoch: 9/10, Loss: 0.50300033, Training: 74.743% (=5232/7000) L=0.50075, Validation: 70.767% (=2123/3000), L=0.57226\n",
						"Updated Learning Rate =  {0.000125}\n",
						"Epoch: 10/10, Loss: 0.49392186, Training: 76.514% (=5356/7000) L=0.47942, Validation: 71.633% (=2149/3000), L=0.56682\n"
					]
				}, {
					"data": {
						"image/png": "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\n",
						"text/plain": [
							"<Figure size 432x288 with 1 Axes>"
						]
					},
					"metadata": {
						"needs_background": "light"
					},
					"output_type": "display_data"
				}, {
					"name": "stdout",
					"output_type": "stream",
					"text": [
						"==== EVALUATION ===== \n",
						"Test Set Metric:  70.512% (=17628/25000) L=0.56393\n",
						"==== PREDICT ===== \n",
						"LABEL = 1, SCORE=0.8877, INPUT = this is a good movie\n",
						"LABEL = 0, SCORE=0.0204, INPUT = this is worst movie i have seen\n"
					]
				}
			],
			"source": [
				"textRcnn.train(10, X_train, y_train, X_train_seqlen, X_val, y_val, X_val_seqlen)\n",
				"\n",
				"textRcnn.plot_loss()\n",
				"\n",
				"print('==== EVALUATION ===== ')\n",
				"textRcnn.evaluate(ds.X_test, ds.y_test, ds.X_test_seqlen)\n",
				"\n",
				"print('==== PREDICT ===== ')\n",
				"textRcnn.predict(ds)"
			]
		}, {
			"cell_type": "markdown",
			"metadata": {},
			"source": [
				"# Play with Toy Data"
			]
		}, {
			"cell_type": "code",
			"execution_count": 13,
			"metadata": {},
			"outputs": [{
					"name": "stdout",
					"output_type": "stream",
					"text": [
						"X = \n",
						"tensor([[2, 3, 4],\n",
						"        [6, 7, 0]])\n",
						"eX = \n",
						"tensor([[[2., 2., 2., 2., 2.],\n",
						"         [3., 3., 3., 3., 3.],\n",
						"         [4., 4., 4., 4., 4.]],\n",
						"\n",
						"        [[6., 6., 6., 6., 6.],\n",
						"         [7., 7., 7., 7., 7.],\n",
						"         [0., 0., 0., 0., 0.]]])\n",
						"h_n = \n",
						"tensor([[[-7.5357e-02,  5.5092e-01,  6.0395e-01, -2.7171e-01,  7.0812e-02,\n",
						"          -1.1413e-01, -2.0524e-01],\n",
						"         [-1.6308e-01,  7.2472e-02,  2.1795e-01, -1.7961e-01,  2.3155e-02,\n",
						"           1.3134e-01, -2.3724e-01]],\n",
						"\n",
						"        [[ 5.2381e-01,  3.0087e-01, -2.1622e-02, -4.4874e-01,  1.4532e-01,\n",
						"           1.5639e-01, -5.7926e-02],\n",
						"         [ 6.6420e-01,  7.9313e-02, -4.9637e-02, -7.6206e-01,  3.9227e-03,\n",
						"           4.6407e-01, -5.7378e-03]],\n",
						"\n",
						"        [[ 8.0135e-02,  1.2316e-01, -4.4092e-02, -1.6356e-01, -3.4166e-02,\n",
						"          -8.3401e-02,  5.6491e-02],\n",
						"         [ 5.6772e-02,  4.9321e-02, -2.0213e-04, -2.3059e-01, -3.8075e-02,\n",
						"          -1.3337e-01,  9.2336e-02]],\n",
						"\n",
						"        [[ 9.9678e-02,  1.0817e-01,  1.6126e-01, -3.1151e-02,  1.5938e-01,\n",
						"          -3.3781e-02,  6.2907e-02],\n",
						"         [ 8.1388e-02,  9.1685e-02,  1.8760e-01, -5.0551e-03,  1.2006e-01,\n",
						"          -3.8613e-02,  1.3941e-01]]], grad_fn=<StackBackward>)\n",
						"fi = \n",
						"tensor([[-7.5357e-02,  5.5092e-01,  6.0395e-01, -2.7171e-01,  7.0812e-02,\n",
						"         -1.1413e-01, -2.0524e-01,  5.2381e-01,  3.0087e-01, -2.1622e-02,\n",
						"         -4.4874e-01,  1.4532e-01,  1.5639e-01, -5.7926e-02,  8.0135e-02,\n",
						"          1.2316e-01, -4.4092e-02, -1.6356e-01, -3.4166e-02, -8.3401e-02,\n",
						"          5.6491e-02,  9.9678e-02,  1.0817e-01,  1.6126e-01, -3.1151e-02,\n",
						"          1.5938e-01, -3.3781e-02,  6.2907e-02],\n",
						"        [-1.6308e-01,  7.2472e-02,  2.1795e-01, -1.7961e-01,  2.3155e-02,\n",
						"          1.3134e-01, -2.3724e-01,  6.6420e-01,  7.9313e-02, -4.9637e-02,\n",
						"         -7.6206e-01,  3.9227e-03,  4.6407e-01, -5.7378e-03,  5.6772e-02,\n",
						"          4.9321e-02, -2.0213e-04, -2.3059e-01, -3.8075e-02, -1.3337e-01,\n",
						"          9.2336e-02,  8.1388e-02,  9.1685e-02,  1.8760e-01, -5.0551e-03,\n",
						"          1.2006e-01, -3.8613e-02,  1.3941e-01]], grad_fn=<CatBackward>)\n",
						"fv = \n",
						"tensor([[-7.5357e-02,  5.5092e-01,  6.0395e-01, -2.7171e-01,  7.0812e-02,\n",
						"         -1.1413e-01, -2.0524e-01, -1.6308e-01,  7.2472e-02,  2.1795e-01,\n",
						"         -1.7961e-01,  2.3155e-02,  1.3134e-01, -2.3724e-01,  5.2381e-01,\n",
						"          3.0087e-01, -2.1622e-02, -4.4874e-01,  1.4532e-01,  1.5639e-01,\n",
						"         -5.7926e-02,  6.6420e-01,  7.9313e-02, -4.9637e-02, -7.6206e-01,\n",
						"          3.9227e-03,  4.6407e-01, -5.7378e-03],\n",
						"        [ 8.0135e-02,  1.2316e-01, -4.4092e-02, -1.6356e-01, -3.4166e-02,\n",
						"         -8.3401e-02,  5.6491e-02,  5.6772e-02,  4.9321e-02, -2.0213e-04,\n",
						"         -2.3059e-01, -3.8075e-02, -1.3337e-01,  9.2336e-02,  9.9678e-02,\n",
						"          1.0817e-01,  1.6126e-01, -3.1151e-02,  1.5938e-01, -3.3781e-02,\n",
						"          6.2907e-02,  8.1388e-02,  9.1685e-02,  1.8760e-01, -5.0551e-03,\n",
						"          1.2006e-01, -3.8613e-02,  1.3941e-01]], grad_fn=<ViewBackward>)\n"
					]
				}
			],
			"source": [
				"## Understand Operations\n",
				"\n",
				"word_emb = torch.tensor([\n",
				"    [0,0,0,0,0],\n",
				"    [1,1,1,1,1],\n",
				"    [2,2,2,2,2],\n",
				"    [3,3,3,3,3],\n",
				"    [4,4,4,4,4],\n",
				"    [5,5,5,5,5],\n",
				"    [6,6,6,6,6],\n",
				"    [7,7,7,7,7],\n",
				"    [8,8,8,8,8]]).type(torch.FloatTensor)\n",
				"\n",
				"embeddings = nn.Embedding(num_embeddings=9, embedding_dim=5, padding_idx=0)   # V * d\n",
				"embeddings.weight = nn.Parameter(word_emb, requires_grad=False)\n",
				"\n",
				"lstm = nn.LSTM(input_size=5, hidden_size=7, num_layers=2, batch_first=True, bidirectional=True)\n",
				"\n",
				"X = torch.tensor([[2,3,4],[6,7,0]]).type(torch.LongTensor)\n",
				"\n",
				"print('X = ')\n",
				"print(X)\n",
				"eX = embeddings(X)\n",
				"print('eX = ')\n",
				"print(eX)\n",
				"l_o, (h_n, c_n) = lstm(eX)\n",
				"print('h_n = ')\n",
				"print(h_n)\n",
				"fi = torch.cat([h_n[i, :, :] for i in range(h_n.shape[0])], dim=1)\n",
				"print('fi = ')\n",
				"print(fi)\n",
				"fv = h_n.view(-1, h_n.size()[0] * h_n.size()[2])\n",
				"print('fv = ')\n",
				"print(fv)"
			]
		}, {
			"cell_type": "code",
			"execution_count": 14,
			"metadata": {},
			"outputs": [{
					"name": "stdout",
					"output_type": "stream",
					"text": [
						"X = \n",
						"tensor([[2, 3, 4, 5, 6, 7, 8],\n",
						"        [8, 7, 6, 5, 4, 3, 2]])\n",
						"eX =  torch.Size([2, 7, 5])\n",
						"tensor([[[2., 2., 2., 2., 2.],\n",
						"         [3., 3., 3., 3., 3.],\n",
						"         [4., 4., 4., 4., 4.],\n",
						"         [5., 5., 5., 5., 5.],\n",
						"         [6., 6., 6., 6., 6.],\n",
						"         [7., 7., 7., 7., 7.],\n",
						"         [8., 8., 8., 8., 8.]],\n",
						"\n",
						"        [[8., 8., 8., 8., 8.],\n",
						"         [7., 7., 7., 7., 7.],\n",
						"         [6., 6., 6., 6., 6.],\n",
						"         [5., 5., 5., 5., 5.],\n",
						"         [4., 4., 4., 4., 4.],\n",
						"         [3., 3., 3., 3., 3.],\n",
						"         [2., 2., 2., 2., 2.]]])\n",
						"torch.Size([2, 1, 7, 5])\n",
						"c1 =  torch.Size([2, 3, 6])\n",
						"tensor([[[1.4410, 1.9553, 2.4696, 2.9840, 3.4983, 4.0126],\n",
						"         [0.9510, 1.2556, 1.5602, 1.8648, 2.1694, 2.4740],\n",
						"         [2.4920, 3.5232, 4.5543, 5.5855, 6.6166, 7.6478]],\n",
						"\n",
						"        [[4.2470, 3.7327, 3.2184, 2.7040, 2.1897, 1.6754],\n",
						"         [1.5841, 1.2795, 0.9749, 0.6703, 0.3657, 0.0611],\n",
						"         [7.4119, 6.3808, 5.3496, 4.3185, 3.2873, 2.2562]]],\n",
						"       grad_fn=<SqueezeBackward1>)\n",
						"c1p =  torch.Size([2, 3])\n",
						"tensor([[4.0126, 2.4740, 7.6478],\n",
						"        [4.2470, 1.5841, 7.4119]], grad_fn=<SqueezeBackward1>)\n"
					]
				}
			],
			"source": [
				"## Understand Operations\n",
				"\n",
				"word_emb = torch.tensor([\n",
				"    [0,0,0,0,0],\n",
				"    [1,1,1,1,1],\n",
				"    [2,2,2,2,2],\n",
				"    [3,3,3,3,3],\n",
				"    [4,4,4,4,4],\n",
				"    [5,5,5,5,5],\n",
				"    [6,6,6,6,6],\n",
				"    [7,7,7,7,7],\n",
				"    [8,8,8,8,8]]).type(torch.FloatTensor)\n",
				"\n",
				"embeddings = nn.Embedding(num_embeddings=9, embedding_dim=5, padding_idx=0)   # V * d\n",
				"embeddings.weight = nn.Parameter(word_emb, requires_grad=False)\n",
				"\n",
				"conv1 = nn.Conv2d(in_channels=1, out_channels=3, kernel_size=(2, 5))\n",
				"pool1 = nn.MaxPool1d(7-2+1)\n",
				"\n",
				"\n",
				"X = torch.tensor([[2,3,4,5,6,7,8],[8,7,6,5,4,3,2]]).type(torch.LongTensor)\n",
				"\n",
				"print('X = ')\n",
				"print(X)\n",
				"eX = embeddings(X)\n",
				"print('eX = ', eX.size())\n",
				"print(eX)\n",
				"eX = eX.unsqueeze(1)\n",
				"print(eX.size())\n",
				"c1 = conv1(eX).squeeze(3)\n",
				"print('c1 = ', c1.size())\n",
				"print(c1)\n",
				"c1p = pool1(c1).squeeze(2)\n",
				"print('c1p = ', c1p.size())\n",
				"print(c1p)"
			]
		}, {
			"cell_type": "code",
			"execution_count": 28,
			"metadata": {},
			"outputs": [{
					"name": "stdout",
					"output_type": "stream",
					"text": [
						"X = \n",
						"tensor([[2, 3, 4],\n",
						"        [6, 7, 0]])\n",
						"eX = \n",
						"tensor([[[2., 2., 2., 2., 2.],\n",
						"         [3., 3., 3., 3., 3.],\n",
						"         [4., 4., 4., 4., 4.]],\n",
						"\n",
						"        [[6., 6., 6., 6., 6.],\n",
						"         [7., 7., 7., 7., 7.],\n",
						"         [0., 0., 0., 0., 0.]]])\n",
						"l_o = \n",
						"tensor([[[-1.6737e-01,  2.8292e-02,  6.9431e-02, -2.8011e-02,  3.8141e-02,\n",
						"          -3.4370e-02,  1.0937e-01, -2.7169e-02, -2.6018e-03, -1.3850e-01,\n",
						"          -2.0993e-01, -7.8169e-02, -1.8952e-01, -1.0134e-01],\n",
						"         [-2.5609e-01,  5.0148e-02,  1.0726e-01, -5.6000e-02,  5.5745e-02,\n",
						"          -4.6080e-02,  1.3880e-01, -2.3304e-02, -1.4487e-02, -1.1174e-01,\n",
						"          -2.0125e-01, -8.0383e-02, -1.6329e-01, -8.5320e-02],\n",
						"         [-2.9957e-01,  6.5413e-02,  1.2522e-01, -8.3754e-02,  6.6857e-02,\n",
						"          -4.5825e-02,  1.4098e-01, -1.7367e-02, -2.7340e-02, -6.9956e-02,\n",
						"          -1.6518e-01, -6.3094e-02, -1.0805e-01, -5.9518e-02]],\n",
						"\n",
						"        [[-1.6780e-01,  2.7649e-02,  6.8679e-02, -2.6114e-02,  3.7596e-02,\n",
						"          -3.4416e-02,  1.0957e-01, -2.7389e-02, -9.8370e-05, -1.3781e-01,\n",
						"          -2.0861e-01, -7.6355e-02, -1.9133e-01, -1.0263e-01],\n",
						"         [-2.5733e-01,  4.9325e-02,  1.0668e-01, -5.2790e-02,  5.4078e-02,\n",
						"          -4.6495e-02,  1.3934e-01, -2.3626e-02, -1.3465e-02, -1.1106e-01,\n",
						"          -1.9884e-01, -7.7765e-02, -1.6636e-01, -8.7130e-02],\n",
						"         [-3.0016e-01,  6.6451e-02,  1.2535e-01, -8.0087e-02,  6.3963e-02,\n",
						"          -4.7095e-02,  1.4156e-01, -1.7603e-02, -2.6818e-02, -6.9456e-02,\n",
						"          -1.6315e-01, -6.0844e-02, -1.0975e-01, -6.0992e-02]]],\n",
						"       grad_fn=<TransposeBackward0>)\n",
						"feature_map =  torch.Size([2, 3, 19])\n",
						"tensor([[[-1.6737e-01,  2.8292e-02,  6.9431e-02, -2.8011e-02,  3.8141e-02,\n",
						"          -3.4370e-02,  1.0937e-01, -2.7169e-02, -2.6018e-03, -1.3850e-01,\n",
						"          -2.0993e-01, -7.8169e-02, -1.8952e-01, -1.0134e-01,  2.0000e+00,\n",
						"           2.0000e+00,  2.0000e+00,  2.0000e+00,  2.0000e+00],\n",
						"         [-2.5609e-01,  5.0148e-02,  1.0726e-01, -5.6000e-02,  5.5745e-02,\n",
						"          -4.6080e-02,  1.3880e-01, -2.3304e-02, -1.4487e-02, -1.1174e-01,\n",
						"          -2.0125e-01, -8.0383e-02, -1.6329e-01, -8.5320e-02,  3.0000e+00,\n",
						"           3.0000e+00,  3.0000e+00,  3.0000e+00,  3.0000e+00],\n",
						"         [-2.9957e-01,  6.5413e-02,  1.2522e-01, -8.3754e-02,  6.6857e-02,\n",
						"          -4.5825e-02,  1.4098e-01, -1.7367e-02, -2.7340e-02, -6.9956e-02,\n",
						"          -1.6518e-01, -6.3094e-02, -1.0805e-01, -5.9518e-02,  4.0000e+00,\n",
						"           4.0000e+00,  4.0000e+00,  4.0000e+00,  4.0000e+00]],\n",
						"\n",
						"        [[-1.6780e-01,  2.7649e-02,  6.8679e-02, -2.6114e-02,  3.7596e-02,\n",
						"          -3.4416e-02,  1.0957e-01, -2.7389e-02, -9.8370e-05, -1.3781e-01,\n",
						"          -2.0861e-01, -7.6355e-02, -1.9133e-01, -1.0263e-01,  6.0000e+00,\n",
						"           6.0000e+00,  6.0000e+00,  6.0000e+00,  6.0000e+00],\n",
						"         [-2.5733e-01,  4.9325e-02,  1.0668e-01, -5.2790e-02,  5.4078e-02,\n",
						"          -4.6495e-02,  1.3934e-01, -2.3626e-02, -1.3465e-02, -1.1106e-01,\n",
						"          -1.9884e-01, -7.7765e-02, -1.6636e-01, -8.7130e-02,  7.0000e+00,\n",
						"           7.0000e+00,  7.0000e+00,  7.0000e+00,  7.0000e+00],\n",
						"         [-3.0016e-01,  6.6451e-02,  1.2535e-01, -8.0087e-02,  6.3963e-02,\n",
						"          -4.7095e-02,  1.4156e-01, -1.7603e-02, -2.6818e-02, -6.9456e-02,\n",
						"          -1.6315e-01, -6.0844e-02, -1.0975e-01, -6.0992e-02,  0.0000e+00,\n",
						"           0.0000e+00,  0.0000e+00,  0.0000e+00,  0.0000e+00]]],\n",
						"       grad_fn=<CatBackward>)\n",
						"conv_out =  torch.Size([2, 19])\n",
						"tensor([[-1.6737e-01,  6.5413e-02,  1.2522e-01, -2.8011e-02,  6.6857e-02,\n",
						"         -3.4370e-02,  1.4098e-01, -1.7367e-02, -2.6018e-03, -6.9956e-02,\n",
						"         -1.6518e-01, -6.3094e-02, -1.0805e-01, -5.9518e-02,  4.0000e+00,\n",
						"          4.0000e+00,  4.0000e+00,  4.0000e+00,  4.0000e+00],\n",
						"        [-1.6780e-01,  6.6451e-02,  1.2535e-01, -2.6114e-02,  6.3963e-02,\n",
						"         -3.4416e-02,  1.4156e-01, -1.7603e-02, -9.8370e-05, -6.9456e-02,\n",
						"         -1.6315e-01, -6.0844e-02, -1.0975e-01, -6.0992e-02,  7.0000e+00,\n",
						"          7.0000e+00,  7.0000e+00,  7.0000e+00,  7.0000e+00]],\n",
						"       grad_fn=<SqueezeBackward1>)\n"
					]
				}
			],
			"source": [
				"## Understand Operations\n",
				"from torch.nn import functional as F\n",
				"\n",
				"word_emb = torch.tensor([\n",
				"    [0,0,0,0,0],\n",
				"    [1,1,1,1,1],\n",
				"    [2,2,2,2,2],\n",
				"    [3,3,3,3,3],\n",
				"    [4,4,4,4,4],\n",
				"    [5,5,5,5,5],\n",
				"    [6,6,6,6,6],\n",
				"    [7,7,7,7,7],\n",
				"    [8,8,8,8,8]]).type(torch.FloatTensor)\n",
				"\n",
				"embeddings = nn.Embedding(num_embeddings=9, embedding_dim=5, padding_idx=0)   # V * d\n",
				"embeddings.weight = nn.Parameter(word_emb, requires_grad=False)\n",
				"\n",
				"lstm = nn.LSTM(input_size=5, hidden_size=7, num_layers=4, batch_first=True, bidirectional=True)\n",
				"\n",
				"X = torch.tensor([[2,3,4],[6,7,0]]).type(torch.LongTensor)\n",
				"\n",
				"maxpool1 = nn.MaxPool1d(3)\n",
				"\n",
				"print('X = ')\n",
				"print(X)\n",
				"eX = embeddings(X)\n",
				"print('eX = ')\n",
				"print(eX)\n",
				"l_o, (h_n, c_n) = lstm(eX)\n",
				"print('l_o = ')\n",
				"print(l_o)\n",
				"feature_map = torch.cat([l_o, eX], dim=2)\n",
				"print('feature_map = ', feature_map.size())\n",
				"print(feature_map)\n",
				"conv_out = F.max_pool1d(feature_map.permute(0,2,1), feature_map.permute(0,2,1).shape[2]).squeeze(2)\n",
				"print('conv_out = ', conv_out.size())\n",
				"print(conv_out)"
			]
		}, {
			"cell_type": "code",
			"execution_count": null,
			"metadata": {},
			"outputs": [],
			"source": []
		}
	],
	"metadata": {
		"kernelspec": {
			"display_name": "Python 3",
			"language": "python",
			"name": "python3"
		},
		"language_info": {
			"codemirror_mode": {
				"name": "ipython",
				"version": 3
			},
			"file_extension": ".py",
			"mimetype": "text/x-python",
			"name": "python",
			"nbconvert_exporter": "python",
			"pygments_lexer": "ipython3",
			"version": "3.6.5"
		}
	},
	"nbformat": 4,
	"nbformat_minor": 2
}
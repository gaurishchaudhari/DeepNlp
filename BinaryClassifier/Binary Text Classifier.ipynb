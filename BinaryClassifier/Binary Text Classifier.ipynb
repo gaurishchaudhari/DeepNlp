{
 "cells": [
  {
   "cell_type": "markdown",
   "metadata": {},
   "source": [
    "# Sentiment Classification (Binary) on Imdb Review Dataset\n"
   ]
  },
  {
   "cell_type": "code",
   "execution_count": 3,
   "metadata": {},
   "outputs": [
    {
     "name": "stdout",
     "output_type": "stream",
     "text": [
      "The autoreload extension is already loaded. To reload it, use:\n",
      "  %reload_ext autoreload\n"
     ]
    }
   ],
   "source": [
    "# Imports\n",
    "\n",
    "import sys\n",
    "import os\n",
    "import re\n",
    "import importlib\n",
    "import numpy as np\n",
    "from datetime import datetime\n",
    "from bunch import Bunch\n",
    "from sklearn.utils import shuffle\n",
    "import torch\n",
    "import torch.nn as nn\n",
    "import torch.optim as optim\n",
    "\n",
    "%matplotlib inline\n",
    "import matplotlib.pyplot as plt\n",
    "\n",
    "%load_ext autoreload\n",
    "%autoreload 2"
   ]
  },
  {
   "cell_type": "code",
   "execution_count": 5,
   "metadata": {},
   "outputs": [
    {
     "name": "stdout",
     "output_type": "stream",
     "text": [
      "[2019-12-24 18:08:54.019263] Loading data ...\n",
      "[2019-12-24 18:09:31.605300] Building vocab and loading glove embeddings ...\n",
      "[2019-12-24 18:09:37.332422] Creating X, y sequences ...\n",
      "[2019-12-24 18:09:40.264171] Padding X, y sequences ...\n"
     ]
    }
   ],
   "source": [
    "from helpers.dataset import Dataset\n",
    "\n",
    "glove_file = '/Users/gaurish/Drive/Workspace/Data/glove.6B/glove.6B.100d.txt'\n",
    "data_root = '/Users/gaurish/Drive/Workspace/Data/aclImdb'\n",
    "categories = ['neg', 'pos']\n",
    "\n",
    "# Load dataset\n",
    "ds = Dataset(num_classes=2)\n",
    "print('[{}] Loading data ...'.format(datetime.now()))\n",
    "ds.load_dataset_from_dir(os.path.join(data_root, 'train'), os.path.join(data_root, 'test'), categories)\n",
    "\n",
    "print('[{}] Building vocab and loading glove embeddings ...'.format(datetime.now()))\n",
    "ds.build_vocab()\n",
    "ds.load_word_embeddings(glove_file)\n",
    "\n",
    "print('[{}] Creating X, y sequences ...'.format(datetime.now()))\n",
    "ds.compute_Xy()\n",
    "\n",
    "print('[{}] Padding X, y sequences ...'.format(datetime.now()))\n",
    "ds.pad_Xy(fixed_max_len=30)"
   ]
  },
  {
   "cell_type": "code",
   "execution_count": 6,
   "metadata": {},
   "outputs": [
    {
     "name": "stdout",
     "output_type": "stream",
     "text": [
      "Number of Raw Training records: 25000 examples, 25000 labels \n",
      "Number of Raw Test records: 25000 examples, 25000 labels \n",
      "Target Names: ['neg', 'pos']\n",
      "Label distribution in Training Set\n",
      "[[    0 12500]\n",
      " [    1 12500]]\n",
      "Label distribution in Test Set\n",
      "[[    0 12500]\n",
      " [    1 12500]]\n",
      "Vocab Size:  53858\n",
      "shape(word_embeddings):  (46197, 100)\n",
      "Top 5 Words in word2index map ['$PAD$(0)', '$UNK$(1)', 'the(2)', 'of(3)', 'to(4)', 'and(5)']\n",
      "shape(ds.X_train) =  (25000, 30)  dtype(ds.X_train) =  int64\n",
      "shape(ds.y_train) =  (25000, 1)  dtype(ds.y_train) =  int64\n",
      "shape(ds.X_test) =  (25000, 30)  dtype(ds.X_test) =  int64\n",
      "shape(ds.y_test) =  (25000, 1)  dtype(ds.y_test) =  int64\n",
      "Top 5 training examples:\n",
      "[#1]\t [0]\n",
      "\t [  30  926   11  155 1273 6414  295    6    2  306]\n",
      "\t this movie is another christian propaganda film in the line of the omega code not that that is necessarily bad but for the fact that most propaganda films sacrifice sincerity\n",
      "[#2]\t [1]\n",
      "\t [    7   727    31 15582  6986  6432 33842     5    60   590]\n",
      "\t a woman who hates cats alice krige and her son brian krause have moved into a small town and must deal with a mean teacher glenn shadix their incestuous relationship\n",
      "[#3]\t [0]\n",
      "\t [10100  2917    11     7   251     9    11    63 20602 45464]\n",
      "\t beast wars is a show that is over hyped overpraised and overrated let s meet the characters of this obnoxious show whose creators must have been on acid to try\n",
      "[#4]\t [1]\n",
      "\t [   22  4020   813     3  9376 12716    16    17  1423    43]\n",
      "\t an excellent example of cowboy noir as it s been called in which unemployed michael nicolas cage loses out on a job because he insists on being honest he s\n",
      "[#5]\t [1]\n",
      "\t [ 4474  4789    30    11     7 15981 12299 11289   926    27]\n",
      "\t ok basically this is a popcorn sci fi movie but from the outset its obvious that it has been directed with a great deal of intelligence you can count about\n"
     ]
    }
   ],
   "source": [
    "def print_stats(ds):\n",
    "\n",
    "    print('Number of Raw Training records: {} examples, {} labels '.format(\n",
    "        len(ds.raw_train.data), len(ds.raw_train.target)))\n",
    "    print('Number of Raw Test records: {} examples, {} labels '.format(\n",
    "        len(ds.raw_test.data), len(ds.raw_test.target)))\n",
    "    print('Target Names:', ds.raw_train.target_names)\n",
    "\n",
    "    print('Label distribution in Training Set')\n",
    "    print(np.asarray(np.unique(ds.raw_train.target, return_counts=True)).T)\n",
    "    print('Label distribution in Test Set')\n",
    "    print(np.asarray(np.unique(ds.raw_test.target, return_counts=True)).T)\n",
    "\n",
    "    print('Vocab Size: ', len(ds.vocab))\n",
    "    print('shape(word_embeddings): ', ds.word_embeddings.shape)\n",
    "    print('Top 5 Words in word2index map', ['{}({})'.format(w, i) for w, i in ds.word2index.items() if i <= 5])\n",
    "\n",
    "    print('shape(ds.X_train) = ', ds.X_train.shape, ' dtype(ds.X_train) = ', ds.X_train.dtype)\n",
    "    print('shape(ds.y_train) = ', ds.y_train.shape, ' dtype(ds.y_train) = ', ds.y_train.dtype)\n",
    "    print('shape(ds.X_test) = ', ds.X_test.shape, ' dtype(ds.X_test) = ', ds.X_test.dtype)\n",
    "    print('shape(ds.y_test) = ', ds.y_test.shape, ' dtype(ds.y_test) = ', ds.y_test.dtype)\n",
    "\n",
    "    print('Top 5 training examples:')\n",
    "    for i in range(5):\n",
    "        print('[#{}]\\t {}'.format(i + 1, ds.y_train[i]))\n",
    "        print('\\t', ds.X_train[i][:10])\n",
    "        print('\\t', ' '.join(ds.raw_train.data[i].split()[:30]))\n",
    "        \n",
    "print_stats(ds)"
   ]
  },
  {
   "cell_type": "code",
   "execution_count": 7,
   "metadata": {},
   "outputs": [
    {
     "name": "stdout",
     "output_type": "stream",
     "text": [
      "shape(X_train) =  (7000, 30)  dtype(X_train) =  int64\n",
      "shape(y_train) =  (7000, 1)  dtype(y_train) =  int64\n",
      "shape(X_val) =  (3000, 30)  dtype(X_val) =  int64\n",
      "shape(y_val) =  (3000, 1)  dtype(y_val) =  int64\n",
      "Label distribution in Training Set\n",
      "[[   0 3532]\n",
      " [   1 3468]]\n",
      "Label distribution in Validation Set\n",
      "[[   0 1483]\n",
      " [   1 1517]]\n"
     ]
    }
   ],
   "source": [
    "maxN = min(10000, len(ds.X_train)) \n",
    "split = int(0.7 * maxN)\n",
    "\n",
    "offset = 5000\n",
    "\n",
    "X_train = ds.X_train[offset:offset+split]\n",
    "y_train = ds.y_train[offset:offset+split]\n",
    "X_train_seqlen = ds.X_train_seqlen[offset:offset+split]\n",
    "\n",
    "X_val = ds.X_train[offset+split:offset+maxN]\n",
    "y_val = ds.y_train[offset+split:offset+maxN]\n",
    "X_val_seqlen = ds.X_train_seqlen[offset+split:offset+maxN]\n",
    "\n",
    "word_embeddings = ds.word_embeddings\n",
    "\n",
    "print('shape(X_train) = ', X_train.shape, ' dtype(X_train) = ', X_train.dtype)\n",
    "print('shape(y_train) = ', y_train.shape, ' dtype(y_train) = ', y_train.dtype)\n",
    "print('shape(X_val) = ', X_val.shape, ' dtype(X_val) = ', X_val.dtype)\n",
    "print('shape(y_val) = ', y_val.shape, ' dtype(y_val) = ', y_val.dtype)\n",
    "    \n",
    "print('Label distribution in Training Set')\n",
    "print(np.asarray(np.unique(y_train, return_counts=True)).T)\n",
    "print('Label distribution in Validation Set')\n",
    "print(np.asarray(np.unique(y_val, return_counts=True)).T)"
   ]
  },
  {
   "cell_type": "code",
   "execution_count": 8,
   "metadata": {},
   "outputs": [],
   "source": [
    "from helpers.utils import mini_batches\n",
    "from helpers.evaluate import evaluate_model, predict_instance\n",
    "\n",
    "class DeepModel:\n",
    "    \n",
    "    def __init__(self, model, lr):\n",
    "        self.model = model\n",
    "        \n",
    "        self.optimizer = optim.Adam(self.model.parameters(), lr=lr)\n",
    "        self.loss_op = nn.BCELoss()  # binary cross entropy loss\n",
    "\n",
    "        self.model.set_optimizer(self.optimizer)\n",
    "        self.model.set_loss_op(self.loss_op)\n",
    "\n",
    "        self.epoch_losses = []\n",
    "        self.epoch_metrics = []\n",
    "        self.train_losses = []\n",
    "        self.val_losses = []\n",
    "        \n",
    "\n",
    "    def train(self, num_epochs, train_X, train_y, train_X_seqlen, val_X, val_y, val_X_seqlen, epoch_interval_for_lr = 3):\n",
    "        for epoch in range(num_epochs):\n",
    "\n",
    "            #X_train, y_train, X_train_seqlen = shuffle(X_train, y_train, X_train_seqlen, random_state=17)\n",
    "            epoch_loss = self.model.run_epoch(train_X, train_y, train_X_seqlen)\n",
    "\n",
    "            accuracy1, correct1, total1, loss1 = evaluate_model(self.model, train_X, train_y, train_X_seqlen, self.model.config.batch_size)\n",
    "            accuracy2, correct2, total2, loss2 = evaluate_model(self.model, val_X, val_y, val_X_seqlen, self.model.config.batch_size)\n",
    "\n",
    "            self.epoch_losses.append(epoch_loss)\n",
    "            self.train_losses.append(loss1)\n",
    "            self.val_losses.append(loss2)\n",
    "            self.epoch_metrics.append('Training: {:.3f}% (={}/{}) L={:.5f}, Validation: {:.3f}% (={}/{}), L={:.5f}'.format(\n",
    "                accuracy1, correct1, total1, loss1, accuracy2, correct2, total2, loss2))\n",
    "            print('Epoch: {}/{}, Loss: {:.8f}, {}'.format(epoch+1, num_epochs, self.epoch_losses[-1], self.epoch_metrics[-1]))\n",
    "\n",
    "            if (epoch + 1) % epoch_interval_for_lr == 0:\n",
    "                # reduce learning rate\n",
    "                for g in self.model.optimizer.param_groups:\n",
    "                    g['lr'] = g['lr'] / 2                    \n",
    "                print('Updated Learning Rate = ', set(g['lr'] for g in self.model.optimizer.param_groups))\n",
    "   \n",
    "\n",
    "    def plot_loss(self):\n",
    "        \n",
    "        plt.plot(self.train_losses)\n",
    "        plt.plot(self.val_losses)\n",
    "        plt.title(type(self.model).__name__)\n",
    "        plt.ylabel('loss')\n",
    "        plt.xlabel('epoch')\n",
    "        plt.legend(['train loss', 'validation loss'], loc='upper right')\n",
    "        plt.show()\n",
    "\n",
    "        \n",
    "    def evaluate(self, test_X, test_y, test_X_seqlen):\n",
    "        accuracy, correct, total, loss = evaluate_model(self.model, test_X, test_y, test_X_seqlen, self.model.config.batch_size)\n",
    "        metric = '{:.3f}% (={}/{}) L={:.5f}'.format(accuracy, correct, total, loss)\n",
    "        print('Test Set Metric: ', metric)\n",
    "        \n",
    "        \n",
    "    def predict(self, ds, input_texts = ['this is a good movie', 'this is worst movie i have seen']):\n",
    "        for text in input_texts:\n",
    "            lbl, score = predict_instance(self.model, ds, text)\n",
    "            print('LABEL = {}, SCORE={:.4f}, INPUT = {}'.format(lbl, score, text))\n",
    "        "
   ]
  },
  {
   "cell_type": "markdown",
   "metadata": {},
   "source": [
    "# TextRNN"
   ]
  },
  {
   "cell_type": "code",
   "execution_count": 9,
   "metadata": {},
   "outputs": [],
   "source": [
    "config = Bunch()\n",
    "config.vocab_size, config.embed_size = word_embeddings.shape\n",
    "config.output_size = 1\n",
    "config.hidden_size = 50\n",
    "config.num_lstm_layers = 2\n",
    "config.isBidirectional = True\n",
    "config.dropout_p = 0.5\n",
    "config.batch_size = 64\n",
    "config.lr = 0.001\n",
    "\n",
    "from helpers.TextRNN import TextRNN\n",
    "\n",
    "tm = TextRNN(config, torch.from_numpy(word_embeddings).type(torch.FloatTensor))\n",
    "textRnn = DeepModel(tm, config.lr)"
   ]
  },
  {
   "cell_type": "code",
   "execution_count": 10,
   "metadata": {},
   "outputs": [
    {
     "name": "stdout",
     "output_type": "stream",
     "text": [
      "Epoch: 1/10, Loss: 0.68477466, Training: 61.529% (=4307/7000) L=0.65887, Validation: 60.567% (=1817/3000), L=0.66509\n",
      "Epoch: 2/10, Loss: 0.63918760, Training: 67.743% (=4742/7000) L=0.59877, Validation: 66.100% (=1983/3000), L=0.61282\n",
      "Epoch: 3/10, Loss: 0.59772391, Training: 69.886% (=4892/7000) L=0.56997, Validation: 67.967% (=2039/3000), L=0.59445\n",
      "Updated Learning Rate =  {0.0005}\n",
      "Epoch: 4/10, Loss: 0.57159571, Training: 71.457% (=5002/7000) L=0.55234, Validation: 68.833% (=2065/3000), L=0.58169\n",
      "Epoch: 5/10, Loss: 0.55951178, Training: 71.900% (=5033/7000) L=0.54281, Validation: 68.467% (=2054/3000), L=0.57884\n",
      "Epoch: 6/10, Loss: 0.54776781, Training: 73.300% (=5131/7000) L=0.52869, Validation: 68.833% (=2065/3000), L=0.57507\n",
      "Updated Learning Rate =  {0.00025}\n",
      "Epoch: 7/10, Loss: 0.53530881, Training: 72.900% (=5103/7000) L=0.52962, Validation: 69.700% (=2091/3000), L=0.58061\n",
      "Epoch: 8/10, Loss: 0.52742489, Training: 73.286% (=5130/7000) L=0.52294, Validation: 69.533% (=2086/3000), L=0.58209\n",
      "Epoch: 9/10, Loss: 0.51889752, Training: 73.386% (=5137/7000) L=0.52010, Validation: 69.633% (=2089/3000), L=0.58658\n",
      "Updated Learning Rate =  {0.000125}\n",
      "Epoch: 10/10, Loss: 0.51179491, Training: 74.800% (=5236/7000) L=0.49766, Validation: 69.267% (=2078/3000), L=0.57332\n"
     ]
    },
    {
     "data": {
      "image/png": "[encoded data removed]",
      "text/plain": [
       "<Figure size 432x288 with 1 Axes>"
      ]
     },
     "metadata": {
      "needs_background": "light"
     },
     "output_type": "display_data"
    },
    {
     "name": "stdout",
     "output_type": "stream",
     "text": [
      "==== EVALUATION ===== \n",
      "Test Set Metric:  69.552% (=17388/25000) L=0.57113\n",
      "==== PREDICT ===== \n",
      "LABEL = 1, SCORE=0.9564, INPUT = this is a good movie\n",
      "LABEL = 0, SCORE=0.0669, INPUT = this is worst movie i have seen\n"
     ]
    }
   ],
   "source": [
    "textRnn.train(10, X_train, y_train, X_train_seqlen, X_val, y_val, X_val_seqlen)\n",
    "\n",
    "textRnn.plot_loss()\n",
    "\n",
    "print('==== EVALUATION ===== ')\n",
    "textRnn.evaluate(ds.X_test, ds.y_test, ds.X_test_seqlen)\n",
    "\n",
    "print('==== PREDICT ===== ')\n",
    "textRnn.predict(ds)"
   ]
  },
  {
   "cell_type": "markdown",
   "metadata": {},
   "source": [
    "# TextCNN"
   ]
  },
  {
   "cell_type": "code",
   "execution_count": 11,
   "metadata": {},
   "outputs": [],
   "source": [
    "config = Bunch()\n",
    "config.vocab_size, config.embed_size = word_embeddings.shape\n",
    "config.output_size = 1\n",
    "config.max_seq_len = 30\n",
    "config.num_channels = 100\n",
    "config.kernel_size = [3,4,5]\n",
    "config.dropout_p = 0.5\n",
    "config.batch_size = 64\n",
    "config.lr = 0.001\n",
    "\n",
    "from helpers.TextCNN import TextCNN\n",
    "\n",
    "tm = TextCNN(config, torch.from_numpy(word_embeddings).type(torch.FloatTensor))\n",
    "\n",
    "textCnn = DeepModel(tm, config.lr)"
   ]
  },
  {
   "cell_type": "code",
   "execution_count": 12,
   "metadata": {},
   "outputs": [
    {
     "name": "stdout",
     "output_type": "stream",
     "text": [
      "Epoch: 1/10, Loss: 0.67360445, Training: 64.957% (=4547/7000) L=0.61526, Validation: 61.400% (=1842/3000), L=0.64299\n",
      "Epoch: 2/10, Loss: 0.59839306, Training: 71.486% (=5004/7000) L=0.55197, Validation: 66.467% (=1994/3000), L=0.60557\n",
      "Epoch: 3/10, Loss: 0.54986495, Training: 76.943% (=5386/7000) L=0.49530, Validation: 69.067% (=2072/3000), L=0.58134\n",
      "Updated Learning Rate =  {0.0005}\n",
      "Epoch: 4/10, Loss: 0.50534542, Training: 80.614% (=5643/7000) L=0.45474, Validation: 70.033% (=2101/3000), L=0.56516\n",
      "Epoch: 5/10, Loss: 0.47801284, Training: 83.543% (=5848/7000) L=0.42401, Validation: 70.200% (=2106/3000), L=0.56442\n",
      "Epoch: 6/10, Loss: 0.44715470, Training: 85.543% (=5988/7000) L=0.39359, Validation: 69.967% (=2099/3000), L=0.56430\n",
      "Updated Learning Rate =  {0.00025}\n",
      "Epoch: 7/10, Loss: 0.41460866, Training: 84.986% (=5949/7000) L=0.38342, Validation: 70.000% (=2100/3000), L=0.57117\n",
      "Epoch: 8/10, Loss: 0.39960243, Training: 86.471% (=6053/7000) L=0.36526, Validation: 70.400% (=2112/3000), L=0.57084\n",
      "Epoch: 9/10, Loss: 0.38488255, Training: 87.214% (=6105/7000) L=0.35097, Validation: 69.733% (=2092/3000), L=0.57361\n",
      "Updated Learning Rate =  {0.000125}\n",
      "Epoch: 10/10, Loss: 0.36655521, Training: 90.271% (=6319/7000) L=0.32798, Validation: 70.567% (=2117/3000), L=0.56328\n"
     ]
    },
    {
     "data": {
      "image/png": "[encoded data removed]",
      "text/plain": [
       "<Figure size 432x288 with 1 Axes>"
      ]
     },
     "metadata": {
      "needs_background": "light"
     },
     "output_type": "display_data"
    },
    {
     "name": "stdout",
     "output_type": "stream",
     "text": [
      "==== EVALUATION ===== \n",
      "Test Set Metric:  70.044% (=17511/25000) L=0.56514\n",
      "==== PREDICT ===== \n"
     ]
    },
    {
     "ename": "RuntimeError",
     "evalue": "Given input size: (100x1x3). Calculated output size: (100x1x0). Output size is too small",
     "output_type": "error",
     "traceback": [
      "\u001b[0;31m---------------------------------------------------------------------------\u001b[0m",
      "\u001b[0;31mRuntimeError\u001b[0m                              Traceback (most recent call last)",
      "\u001b[0;32m<ipython-input-12-24b59f4f17ef>\u001b[0m in \u001b[0;36m<module>\u001b[0;34m()\u001b[0m\n\u001b[1;32m      7\u001b[0m \u001b[0;34m\u001b[0m\u001b[0m\n\u001b[1;32m      8\u001b[0m \u001b[0mprint\u001b[0m\u001b[0;34m(\u001b[0m\u001b[0;34m'==== PREDICT ===== '\u001b[0m\u001b[0;34m)\u001b[0m\u001b[0;34m\u001b[0m\u001b[0m\n\u001b[0;32m----> 9\u001b[0;31m \u001b[0mtextCnn\u001b[0m\u001b[0;34m.\u001b[0m\u001b[0mpredict\u001b[0m\u001b[0;34m(\u001b[0m\u001b[0mds\u001b[0m\u001b[0;34m)\u001b[0m\u001b[0;34m\u001b[0m\u001b[0m\n\u001b[0m",
      "\u001b[0;32m<ipython-input-8-4c3d0d3a7ee2>\u001b[0m in \u001b[0;36mpredict\u001b[0;34m(self, ds, input_texts)\u001b[0m\n\u001b[1;32m     61\u001b[0m     \u001b[0;32mdef\u001b[0m \u001b[0mpredict\u001b[0m\u001b[0;34m(\u001b[0m\u001b[0mself\u001b[0m\u001b[0;34m,\u001b[0m \u001b[0mds\u001b[0m\u001b[0;34m,\u001b[0m \u001b[0minput_texts\u001b[0m \u001b[0;34m=\u001b[0m \u001b[0;34m[\u001b[0m\u001b[0;34m'this is a good movie'\u001b[0m\u001b[0;34m,\u001b[0m \u001b[0;34m'this is worst movie i have seen'\u001b[0m\u001b[0;34m]\u001b[0m\u001b[0;34m)\u001b[0m\u001b[0;34m:\u001b[0m\u001b[0;34m\u001b[0m\u001b[0m\n\u001b[1;32m     62\u001b[0m         \u001b[0;32mfor\u001b[0m \u001b[0mtext\u001b[0m \u001b[0;32min\u001b[0m \u001b[0minput_texts\u001b[0m\u001b[0;34m:\u001b[0m\u001b[0;34m\u001b[0m\u001b[0m\n\u001b[0;32m---> 63\u001b[0;31m             \u001b[0mlbl\u001b[0m\u001b[0;34m,\u001b[0m \u001b[0mscore\u001b[0m \u001b[0;34m=\u001b[0m \u001b[0mpredict_instance\u001b[0m\u001b[0;34m(\u001b[0m\u001b[0mself\u001b[0m\u001b[0;34m.\u001b[0m\u001b[0mmodel\u001b[0m\u001b[0;34m,\u001b[0m \u001b[0mds\u001b[0m\u001b[0;34m,\u001b[0m \u001b[0mtext\u001b[0m\u001b[0;34m)\u001b[0m\u001b[0;34m\u001b[0m\u001b[0m\n\u001b[0m\u001b[1;32m     64\u001b[0m             \u001b[0mprint\u001b[0m\u001b[0;34m(\u001b[0m\u001b[0;34m'LABEL = {}, SCORE={:.4f}, INPUT = {}'\u001b[0m\u001b[0;34m.\u001b[0m\u001b[0mformat\u001b[0m\u001b[0;34m(\u001b[0m\u001b[0mlbl\u001b[0m\u001b[0;34m,\u001b[0m \u001b[0mscore\u001b[0m\u001b[0;34m,\u001b[0m \u001b[0mtext\u001b[0m\u001b[0;34m)\u001b[0m\u001b[0;34m)\u001b[0m\u001b[0;34m\u001b[0m\u001b[0m\n\u001b[1;32m     65\u001b[0m \u001b[0;34m\u001b[0m\u001b[0m\n",
      "\u001b[0;32m~/Drive/Workspace/DeepNlp/BinaryClassifier/helpers/evaluate.py\u001b[0m in \u001b[0;36mpredict_instance\u001b[0;34m(model, ds, text, num_classes)\u001b[0m\n\u001b[1;32m     36\u001b[0m         \u001b[0mX\u001b[0m \u001b[0;34m=\u001b[0m \u001b[0mtorch\u001b[0m\u001b[0;34m.\u001b[0m\u001b[0mtensor\u001b[0m\u001b[0;34m(\u001b[0m\u001b[0mX\u001b[0m\u001b[0;34m,\u001b[0m \u001b[0mdtype\u001b[0m\u001b[0;34m=\u001b[0m\u001b[0mtorch\u001b[0m\u001b[0;34m.\u001b[0m\u001b[0mlong\u001b[0m\u001b[0;34m)\u001b[0m\u001b[0;34m\u001b[0m\u001b[0m\n\u001b[1;32m     37\u001b[0m         \u001b[0mX_len\u001b[0m \u001b[0;34m=\u001b[0m \u001b[0mtorch\u001b[0m\u001b[0;34m.\u001b[0m\u001b[0mtensor\u001b[0m\u001b[0;34m(\u001b[0m\u001b[0;34m[\u001b[0m\u001b[0mlen\u001b[0m\u001b[0;34m(\u001b[0m\u001b[0mX\u001b[0m\u001b[0;34m)\u001b[0m\u001b[0;34m]\u001b[0m\u001b[0;34m,\u001b[0m \u001b[0mdtype\u001b[0m\u001b[0;34m=\u001b[0m\u001b[0mtorch\u001b[0m\u001b[0;34m.\u001b[0m\u001b[0mlong\u001b[0m\u001b[0;34m)\u001b[0m\u001b[0;34m\u001b[0m\u001b[0m\n\u001b[0;32m---> 38\u001b[0;31m         \u001b[0my\u001b[0m \u001b[0;34m=\u001b[0m \u001b[0mmodel\u001b[0m\u001b[0;34m(\u001b[0m\u001b[0mX\u001b[0m\u001b[0;34m,\u001b[0m \u001b[0mX_len\u001b[0m\u001b[0;34m)\u001b[0m\u001b[0;34m\u001b[0m\u001b[0m\n\u001b[0m\u001b[1;32m     39\u001b[0m \u001b[0;34m\u001b[0m\u001b[0m\n\u001b[1;32m     40\u001b[0m         \u001b[0;32mif\u001b[0m \u001b[0mnum_classes\u001b[0m \u001b[0;34m==\u001b[0m \u001b[0;36m2\u001b[0m\u001b[0;34m:\u001b[0m\u001b[0;34m\u001b[0m\u001b[0m\n",
      "\u001b[0;32m/usr/local/lib/python3.6/site-packages/torch/nn/modules/module.py\u001b[0m in \u001b[0;36m__call__\u001b[0;34m(self, *input, **kwargs)\u001b[0m\n\u001b[1;32m    539\u001b[0m             \u001b[0mresult\u001b[0m \u001b[0;34m=\u001b[0m \u001b[0mself\u001b[0m\u001b[0;34m.\u001b[0m\u001b[0m_slow_forward\u001b[0m\u001b[0;34m(\u001b[0m\u001b[0;34m*\u001b[0m\u001b[0minput\u001b[0m\u001b[0;34m,\u001b[0m \u001b[0;34m**\u001b[0m\u001b[0mkwargs\u001b[0m\u001b[0;34m)\u001b[0m\u001b[0;34m\u001b[0m\u001b[0m\n\u001b[1;32m    540\u001b[0m         \u001b[0;32melse\u001b[0m\u001b[0;34m:\u001b[0m\u001b[0;34m\u001b[0m\u001b[0m\n\u001b[0;32m--> 541\u001b[0;31m             \u001b[0mresult\u001b[0m \u001b[0;34m=\u001b[0m \u001b[0mself\u001b[0m\u001b[0;34m.\u001b[0m\u001b[0mforward\u001b[0m\u001b[0;34m(\u001b[0m\u001b[0;34m*\u001b[0m\u001b[0minput\u001b[0m\u001b[0;34m,\u001b[0m \u001b[0;34m**\u001b[0m\u001b[0mkwargs\u001b[0m\u001b[0;34m)\u001b[0m\u001b[0;34m\u001b[0m\u001b[0m\n\u001b[0m\u001b[1;32m    542\u001b[0m         \u001b[0;32mfor\u001b[0m \u001b[0mhook\u001b[0m \u001b[0;32min\u001b[0m \u001b[0mself\u001b[0m\u001b[0;34m.\u001b[0m\u001b[0m_forward_hooks\u001b[0m\u001b[0;34m.\u001b[0m\u001b[0mvalues\u001b[0m\u001b[0;34m(\u001b[0m\u001b[0;34m)\u001b[0m\u001b[0;34m:\u001b[0m\u001b[0;34m\u001b[0m\u001b[0m\n\u001b[1;32m    543\u001b[0m             \u001b[0mhook_result\u001b[0m \u001b[0;34m=\u001b[0m \u001b[0mhook\u001b[0m\u001b[0;34m(\u001b[0m\u001b[0mself\u001b[0m\u001b[0;34m,\u001b[0m \u001b[0minput\u001b[0m\u001b[0;34m,\u001b[0m \u001b[0mresult\u001b[0m\u001b[0;34m)\u001b[0m\u001b[0;34m\u001b[0m\u001b[0m\n",
      "\u001b[0;32m~/Drive/Workspace/DeepNlp/BinaryClassifier/helpers/TextCNN.py\u001b[0m in \u001b[0;36mforward\u001b[0;34m(self, x, x_len)\u001b[0m\n\u001b[1;32m     45\u001b[0m         \u001b[0mconv1_act\u001b[0m \u001b[0;34m=\u001b[0m \u001b[0mself\u001b[0m\u001b[0;34m.\u001b[0m\u001b[0mrelu\u001b[0m\u001b[0;34m(\u001b[0m\u001b[0mconv1_out\u001b[0m\u001b[0;34m.\u001b[0m\u001b[0msqueeze\u001b[0m\u001b[0;34m(\u001b[0m\u001b[0;36m3\u001b[0m\u001b[0;34m)\u001b[0m\u001b[0;34m)\u001b[0m\u001b[0;34m\u001b[0m\u001b[0m\n\u001b[1;32m     46\u001b[0m         \u001b[0;31m# print('shape(conv1_act) = ', conv1_act.size()) # (batch_size, num_channels, max_seqlen-kernel_size+1)\u001b[0m\u001b[0;34m\u001b[0m\u001b[0;34m\u001b[0m\u001b[0m\n\u001b[0;32m---> 47\u001b[0;31m         \u001b[0mconv1_pool\u001b[0m \u001b[0;34m=\u001b[0m \u001b[0mself\u001b[0m\u001b[0;34m.\u001b[0m\u001b[0mpool1\u001b[0m\u001b[0;34m(\u001b[0m\u001b[0mconv1_act\u001b[0m\u001b[0;34m)\u001b[0m\u001b[0;34m\u001b[0m\u001b[0m\n\u001b[0m\u001b[1;32m     48\u001b[0m         \u001b[0;31m# print('shape(conv1_pool) = ', conv1_pool.size()) # (batch_size, num_channels, 1)\u001b[0m\u001b[0;34m\u001b[0m\u001b[0;34m\u001b[0m\u001b[0m\n\u001b[1;32m     49\u001b[0m         \u001b[0mconv1_pool\u001b[0m \u001b[0;34m=\u001b[0m \u001b[0mconv1_pool\u001b[0m\u001b[0;34m.\u001b[0m\u001b[0msqueeze\u001b[0m\u001b[0;34m(\u001b[0m\u001b[0;36m2\u001b[0m\u001b[0;34m)\u001b[0m\u001b[0;34m\u001b[0m\u001b[0m\n",
      "\u001b[0;32m/usr/local/lib/python3.6/site-packages/torch/nn/modules/module.py\u001b[0m in \u001b[0;36m__call__\u001b[0;34m(self, *input, **kwargs)\u001b[0m\n\u001b[1;32m    539\u001b[0m             \u001b[0mresult\u001b[0m \u001b[0;34m=\u001b[0m \u001b[0mself\u001b[0m\u001b[0;34m.\u001b[0m\u001b[0m_slow_forward\u001b[0m\u001b[0;34m(\u001b[0m\u001b[0;34m*\u001b[0m\u001b[0minput\u001b[0m\u001b[0;34m,\u001b[0m \u001b[0;34m**\u001b[0m\u001b[0mkwargs\u001b[0m\u001b[0;34m)\u001b[0m\u001b[0;34m\u001b[0m\u001b[0m\n\u001b[1;32m    540\u001b[0m         \u001b[0;32melse\u001b[0m\u001b[0;34m:\u001b[0m\u001b[0;34m\u001b[0m\u001b[0m\n\u001b[0;32m--> 541\u001b[0;31m             \u001b[0mresult\u001b[0m \u001b[0;34m=\u001b[0m \u001b[0mself\u001b[0m\u001b[0;34m.\u001b[0m\u001b[0mforward\u001b[0m\u001b[0;34m(\u001b[0m\u001b[0;34m*\u001b[0m\u001b[0minput\u001b[0m\u001b[0;34m,\u001b[0m \u001b[0;34m**\u001b[0m\u001b[0mkwargs\u001b[0m\u001b[0;34m)\u001b[0m\u001b[0;34m\u001b[0m\u001b[0m\n\u001b[0m\u001b[1;32m    542\u001b[0m         \u001b[0;32mfor\u001b[0m \u001b[0mhook\u001b[0m \u001b[0;32min\u001b[0m \u001b[0mself\u001b[0m\u001b[0;34m.\u001b[0m\u001b[0m_forward_hooks\u001b[0m\u001b[0;34m.\u001b[0m\u001b[0mvalues\u001b[0m\u001b[0;34m(\u001b[0m\u001b[0;34m)\u001b[0m\u001b[0;34m:\u001b[0m\u001b[0;34m\u001b[0m\u001b[0m\n\u001b[1;32m    543\u001b[0m             \u001b[0mhook_result\u001b[0m \u001b[0;34m=\u001b[0m \u001b[0mhook\u001b[0m\u001b[0;34m(\u001b[0m\u001b[0mself\u001b[0m\u001b[0;34m,\u001b[0m \u001b[0minput\u001b[0m\u001b[0;34m,\u001b[0m \u001b[0mresult\u001b[0m\u001b[0;34m)\u001b[0m\u001b[0;34m\u001b[0m\u001b[0m\n",
      "\u001b[0;32m/usr/local/lib/python3.6/site-packages/torch/nn/modules/pooling.py\u001b[0m in \u001b[0;36mforward\u001b[0;34m(self, input)\u001b[0m\n\u001b[1;32m     74\u001b[0m         return F.max_pool1d(input, self.kernel_size, self.stride,\n\u001b[1;32m     75\u001b[0m                             \u001b[0mself\u001b[0m\u001b[0;34m.\u001b[0m\u001b[0mpadding\u001b[0m\u001b[0;34m,\u001b[0m \u001b[0mself\u001b[0m\u001b[0;34m.\u001b[0m\u001b[0mdilation\u001b[0m\u001b[0;34m,\u001b[0m \u001b[0mself\u001b[0m\u001b[0;34m.\u001b[0m\u001b[0mceil_mode\u001b[0m\u001b[0;34m,\u001b[0m\u001b[0;34m\u001b[0m\u001b[0m\n\u001b[0;32m---> 76\u001b[0;31m                             self.return_indices)\n\u001b[0m\u001b[1;32m     77\u001b[0m \u001b[0;34m\u001b[0m\u001b[0m\n\u001b[1;32m     78\u001b[0m \u001b[0;34m\u001b[0m\u001b[0m\n",
      "\u001b[0;32m/usr/local/lib/python3.6/site-packages/torch/_jit_internal.py\u001b[0m in \u001b[0;36mfn\u001b[0;34m(*args, **kwargs)\u001b[0m\n\u001b[1;32m    136\u001b[0m             \u001b[0;32mreturn\u001b[0m \u001b[0mif_true\u001b[0m\u001b[0;34m(\u001b[0m\u001b[0;34m*\u001b[0m\u001b[0margs\u001b[0m\u001b[0;34m,\u001b[0m \u001b[0;34m**\u001b[0m\u001b[0mkwargs\u001b[0m\u001b[0;34m)\u001b[0m\u001b[0;34m\u001b[0m\u001b[0m\n\u001b[1;32m    137\u001b[0m         \u001b[0;32melse\u001b[0m\u001b[0;34m:\u001b[0m\u001b[0;34m\u001b[0m\u001b[0m\n\u001b[0;32m--> 138\u001b[0;31m             \u001b[0;32mreturn\u001b[0m \u001b[0mif_false\u001b[0m\u001b[0;34m(\u001b[0m\u001b[0;34m*\u001b[0m\u001b[0margs\u001b[0m\u001b[0;34m,\u001b[0m \u001b[0;34m**\u001b[0m\u001b[0mkwargs\u001b[0m\u001b[0;34m)\u001b[0m\u001b[0;34m\u001b[0m\u001b[0m\n\u001b[0m\u001b[1;32m    139\u001b[0m \u001b[0;34m\u001b[0m\u001b[0m\n\u001b[1;32m    140\u001b[0m     \u001b[0;32mif\u001b[0m \u001b[0mif_true\u001b[0m\u001b[0;34m.\u001b[0m\u001b[0m__doc__\u001b[0m \u001b[0;32mis\u001b[0m \u001b[0;32mNone\u001b[0m \u001b[0;32mand\u001b[0m \u001b[0mif_false\u001b[0m\u001b[0;34m.\u001b[0m\u001b[0m__doc__\u001b[0m \u001b[0;32mis\u001b[0m \u001b[0;32mnot\u001b[0m \u001b[0;32mNone\u001b[0m\u001b[0;34m:\u001b[0m\u001b[0;34m\u001b[0m\u001b[0m\n",
      "\u001b[0;32m/usr/local/lib/python3.6/site-packages/torch/nn/functional.py\u001b[0m in \u001b[0;36m_max_pool1d\u001b[0;34m(input, kernel_size, stride, padding, dilation, ceil_mode, return_indices)\u001b[0m\n\u001b[1;32m    455\u001b[0m         \u001b[0mstride\u001b[0m \u001b[0;34m=\u001b[0m \u001b[0mtorch\u001b[0m\u001b[0;34m.\u001b[0m\u001b[0mjit\u001b[0m\u001b[0;34m.\u001b[0m\u001b[0mannotate\u001b[0m\u001b[0;34m(\u001b[0m\u001b[0mList\u001b[0m\u001b[0;34m[\u001b[0m\u001b[0mint\u001b[0m\u001b[0;34m]\u001b[0m\u001b[0;34m,\u001b[0m \u001b[0;34m[\u001b[0m\u001b[0;34m]\u001b[0m\u001b[0;34m)\u001b[0m\u001b[0;34m\u001b[0m\u001b[0m\n\u001b[1;32m    456\u001b[0m     return torch.max_pool1d(\n\u001b[0;32m--> 457\u001b[0;31m         input, kernel_size, stride, padding, dilation, ceil_mode)\n\u001b[0m\u001b[1;32m    458\u001b[0m \u001b[0;34m\u001b[0m\u001b[0m\n\u001b[1;32m    459\u001b[0m max_pool1d = boolean_dispatch(\n",
      "\u001b[0;31mRuntimeError\u001b[0m: Given input size: (100x1x3). Calculated output size: (100x1x0). Output size is too small"
     ]
    }
   ],
   "source": [
    "textCnn.train(10, X_train, y_train, X_train_seqlen, X_val, y_val, X_val_seqlen)\n",
    "\n",
    "textCnn.plot_loss()\n",
    "\n",
    "print('==== EVALUATION ===== ')\n",
    "textCnn.evaluate(ds.X_test, ds.y_test, ds.X_test_seqlen)\n",
    "\n",
    "print('==== PREDICT ===== ')\n",
    "textCnn.predict(ds)"
   ]
  },
  {
   "cell_type": "markdown",
   "metadata": {},
   "source": [
    "# TextRCNN"
   ]
  },
  {
   "cell_type": "code",
   "execution_count": 31,
   "metadata": {},
   "outputs": [],
   "source": [
    "config = Bunch()\n",
    "config.vocab_size, config.embed_size = word_embeddings.shape\n",
    "config.output_size = 1\n",
    "config.hidden_size = 50\n",
    "config.conv_feature_dim = 50\n",
    "config.num_lstm_layers = 2\n",
    "config.isBidirectional = True\n",
    "config.dropout_p = 0.5\n",
    "config.batch_size = 64\n",
    "config.lr = 0.001\n",
    "\n",
    "from helpers.TextRCNN import TextRCNN\n",
    "\n",
    "tm = TextRCNN(config, torch.from_numpy(word_embeddings).type(torch.FloatTensor))\n",
    "\n",
    "textRcnn = DeepModel(tm, config.lr)"
   ]
  },
  {
   "cell_type": "code",
   "execution_count": 32,
   "metadata": {},
   "outputs": [
    {
     "name": "stdout",
     "output_type": "stream",
     "text": [
      "Epoch: 1/10, Loss: 0.67463091, Training: 65.900% (=4613/7000) L=0.62137, Validation: 64.600% (=1938/3000), L=0.63001\n",
      "Epoch: 2/10, Loss: 0.61074100, Training: 69.800% (=4886/7000) L=0.57217, Validation: 69.533% (=2086/3000), L=0.58496\n",
      "Epoch: 3/10, Loss: 0.57755034, Training: 70.829% (=4958/7000) L=0.55040, Validation: 69.600% (=2088/3000), L=0.57638\n",
      "Updated Learning Rate =  {0.0005}\n",
      "Epoch: 4/10, Loss: 0.55207982, Training: 72.371% (=5066/7000) L=0.53029, Validation: 70.700% (=2121/3000), L=0.56458\n",
      "Epoch: 5/10, Loss: 0.53921947, Training: 73.257% (=5128/7000) L=0.52129, Validation: 70.200% (=2106/3000), L=0.56644\n",
      "Epoch: 6/10, Loss: 0.52912344, Training: 74.371% (=5206/7000) L=0.50649, Validation: 71.533% (=2146/3000), L=0.55912\n",
      "Updated Learning Rate =  {0.00025}\n",
      "Epoch: 7/10, Loss: 0.51993279, Training: 74.057% (=5184/7000) L=0.50950, Validation: 71.233% (=2137/3000), L=0.56261\n",
      "Epoch: 8/10, Loss: 0.50757709, Training: 74.386% (=5207/7000) L=0.50830, Validation: 70.933% (=2128/3000), L=0.56856\n",
      "Epoch: 9/10, Loss: 0.50300033, Training: 74.743% (=5232/7000) L=0.50075, Validation: 70.767% (=2123/3000), L=0.57226\n",
      "Updated Learning Rate =  {0.000125}\n",
      "Epoch: 10/10, Loss: 0.49392186, Training: 76.514% (=5356/7000) L=0.47942, Validation: 71.633% (=2149/3000), L=0.56682\n"
     ]
    },
    {
     "data": {
      "image/png": "[encoded data removed]",
      "text/plain": [
       "<Figure size 432x288 with 1 Axes>"
      ]
     },
     "metadata": {
      "needs_background": "light"
     },
     "output_type": "display_data"
    },
    {
     "name": "stdout",
     "output_type": "stream",
     "text": [
      "==== EVALUATION ===== \n",
      "Test Set Metric:  70.512% (=17628/25000) L=0.56393\n",
      "==== PREDICT ===== \n",
      "LABEL = 1, SCORE=0.8877, INPUT = this is a good movie\n",
      "LABEL = 0, SCORE=0.0204, INPUT = this is worst movie i have seen\n"
     ]
    }
   ],
   "source": [
    "textRcnn.train(10, X_train, y_train, X_train_seqlen, X_val, y_val, X_val_seqlen)\n",
    "\n",
    "textRcnn.plot_loss()\n",
    "\n",
    "print('==== EVALUATION ===== ')\n",
    "textRcnn.evaluate(ds.X_test, ds.y_test, ds.X_test_seqlen)\n",
    "\n",
    "print('==== PREDICT ===== ')\n",
    "textRcnn.predict(ds)"
   ]
  },
  {
   "cell_type": "markdown",
   "metadata": {},
   "source": [
    "# Play with Toy Data"
   ]
  },
  {
   "cell_type": "code",
   "execution_count": 16,
   "metadata": {},
   "outputs": [
    {
     "name": "stdout",
     "output_type": "stream",
     "text": [
      "X = \n",
      "tensor([[2, 3, 4],\n",
      "        [6, 7, 0]])\n",
      "eX = \n",
      "tensor([[[2., 2., 2., 2., 2.],\n",
      "         [3., 3., 3., 3., 3.],\n",
      "         [4., 4., 4., 4., 4.]],\n",
      "\n",
      "        [[6., 6., 6., 6., 6.],\n",
      "         [7., 7., 7., 7., 7.],\n",
      "         [0., 0., 0., 0., 0.]]])\n",
      "h_n = \n",
      "tensor([[[ 0.5482,  0.2351, -0.4200, -0.3394, -0.0956, -0.0134,  0.0895],\n",
      "         [ 0.0891,  0.3210, -0.1345, -0.1041, -0.0707, -0.0436,  0.1138]],\n",
      "\n",
      "        [[-0.0604, -0.3995,  0.6326,  0.2154,  0.0759,  0.0503,  0.4324],\n",
      "         [-0.0050, -0.5505,  0.7971,  0.0950,  0.0368, -0.0156,  0.6376]],\n",
      "\n",
      "        [[ 0.0334, -0.0287, -0.0240, -0.0541,  0.1743,  0.0037, -0.0273],\n",
      "         [-0.0218, -0.0887,  0.0710, -0.0119,  0.1408,  0.0271, -0.0211]],\n",
      "\n",
      "        [[-0.1519, -0.2877, -0.0317, -0.2194,  0.0748,  0.0074, -0.1565],\n",
      "         [-0.1371, -0.2702, -0.0315, -0.2184,  0.1139,  0.0375, -0.1200]]],\n",
      "       grad_fn=<StackBackward>)\n",
      "fi = \n",
      "tensor([[ 0.5482,  0.2351, -0.4200, -0.3394, -0.0956, -0.0134,  0.0895, -0.0604,\n",
      "         -0.3995,  0.6326,  0.2154,  0.0759,  0.0503,  0.4324,  0.0334, -0.0287,\n",
      "         -0.0240, -0.0541,  0.1743,  0.0037, -0.0273, -0.1519, -0.2877, -0.0317,\n",
      "         -0.2194,  0.0748,  0.0074, -0.1565],\n",
      "        [ 0.0891,  0.3210, -0.1345, -0.1041, -0.0707, -0.0436,  0.1138, -0.0050,\n",
      "         -0.5505,  0.7971,  0.0950,  0.0368, -0.0156,  0.6376, -0.0218, -0.0887,\n",
      "          0.0710, -0.0119,  0.1408,  0.0271, -0.0211, -0.1371, -0.2702, -0.0315,\n",
      "         -0.2184,  0.1139,  0.0375, -0.1200]], grad_fn=<CatBackward>)\n",
      "fv = \n",
      "tensor([[ 0.5482,  0.2351, -0.4200, -0.3394, -0.0956, -0.0134,  0.0895,  0.0891,\n",
      "          0.3210, -0.1345, -0.1041, -0.0707, -0.0436,  0.1138, -0.0604, -0.3995,\n",
      "          0.6326,  0.2154,  0.0759,  0.0503,  0.4324, -0.0050, -0.5505,  0.7971,\n",
      "          0.0950,  0.0368, -0.0156,  0.6376],\n",
      "        [ 0.0334, -0.0287, -0.0240, -0.0541,  0.1743,  0.0037, -0.0273, -0.0218,\n",
      "         -0.0887,  0.0710, -0.0119,  0.1408,  0.0271, -0.0211, -0.1519, -0.2877,\n",
      "         -0.0317, -0.2194,  0.0748,  0.0074, -0.1565, -0.1371, -0.2702, -0.0315,\n",
      "         -0.2184,  0.1139,  0.0375, -0.1200]], grad_fn=<ViewBackward>)\n"
     ]
    }
   ],
   "source": [
    "## Understand Operations\n",
    "\n",
    "word_emb = torch.tensor([\n",
    "    [0,0,0,0,0],\n",
    "    [1,1,1,1,1],\n",
    "    [2,2,2,2,2],\n",
    "    [3,3,3,3,3],\n",
    "    [4,4,4,4,4],\n",
    "    [5,5,5,5,5],\n",
    "    [6,6,6,6,6],\n",
    "    [7,7,7,7,7],\n",
    "    [8,8,8,8,8]]).type(torch.FloatTensor)\n",
    "\n",
    "embeddings = nn.Embedding(num_embeddings=9, embedding_dim=5, padding_idx=0)   # V * d\n",
    "embeddings.weight = nn.Parameter(word_emb, requires_grad=False)\n",
    "\n",
    "lstm = nn.LSTM(input_size=5, hidden_size=7, num_layers=2, batch_first=True, bidirectional=True)\n",
    "\n",
    "X = torch.tensor([[2,3,4],[6,7,0]]).type(torch.LongTensor)\n",
    "\n",
    "print('X = ')\n",
    "print(X)\n",
    "eX = embeddings(X)\n",
    "print('eX = ')\n",
    "print(eX)\n",
    "l_o, (h_n, c_n) = lstm(eX)\n",
    "print('h_n = ')\n",
    "print(h_n)\n",
    "fi = torch.cat([h_n[i, :, :] for i in range(h_n.shape[0])], dim=1)\n",
    "print('fi = ')\n",
    "print(fi)\n",
    "fv = h_n.view(-1, h_n.size()[0] * h_n.size()[2])\n",
    "print('fv = ')\n",
    "print(fv)"
   ]
  },
  {
   "cell_type": "code",
   "execution_count": 14,
   "metadata": {},
   "outputs": [
    {
     "name": "stdout",
     "output_type": "stream",
     "text": [
      "X = \n",
      "tensor([[2, 3, 4, 5, 6, 7, 8],\n",
      "        [8, 7, 6, 5, 4, 3, 2]])\n",
      "eX =  torch.Size([2, 7, 5])\n",
      "tensor([[[2., 2., 2., 2., 2.],\n",
      "         [3., 3., 3., 3., 3.],\n",
      "         [4., 4., 4., 4., 4.],\n",
      "         [5., 5., 5., 5., 5.],\n",
      "         [6., 6., 6., 6., 6.],\n",
      "         [7., 7., 7., 7., 7.],\n",
      "         [8., 8., 8., 8., 8.]],\n",
      "\n",
      "        [[8., 8., 8., 8., 8.],\n",
      "         [7., 7., 7., 7., 7.],\n",
      "         [6., 6., 6., 6., 6.],\n",
      "         [5., 5., 5., 5., 5.],\n",
      "         [4., 4., 4., 4., 4.],\n",
      "         [3., 3., 3., 3., 3.],\n",
      "         [2., 2., 2., 2., 2.]]])\n",
      "torch.Size([2, 1, 7, 5])\n",
      "c1 =  torch.Size([2, 3, 6])\n",
      "tensor([[[ 2.4183,  3.2166,  4.0149,  4.8132,  5.6116,  6.4099],\n",
      "         [-1.5156, -2.1236, -2.7315, -3.3395, -3.9475, -4.5555],\n",
      "         [-0.5851, -0.7366, -0.8881, -1.0396, -1.1911, -1.3426]],\n",
      "\n",
      "        [[ 6.0257,  5.2274,  4.4290,  3.6307,  2.8324,  2.0341],\n",
      "         [-4.5346, -3.9267, -3.3187, -2.7107, -2.1027, -1.4947],\n",
      "         [-0.8594, -0.7079, -0.5564, -0.4049, -0.2534, -0.1019]]],\n",
      "       grad_fn=<SqueezeBackward1>)\n",
      "c1p =  torch.Size([2, 3])\n",
      "tensor([[ 6.4099, -1.5156, -0.5851],\n",
      "        [ 6.0257, -1.4947, -0.1019]], grad_fn=<SqueezeBackward1>)\n"
     ]
    }
   ],
   "source": [
    "## Understand Operations\n",
    "\n",
    "word_emb = torch.tensor([\n",
    "    [0,0,0,0,0],\n",
    "    [1,1,1,1,1],\n",
    "    [2,2,2,2,2],\n",
    "    [3,3,3,3,3],\n",
    "    [4,4,4,4,4],\n",
    "    [5,5,5,5,5],\n",
    "    [6,6,6,6,6],\n",
    "    [7,7,7,7,7],\n",
    "    [8,8,8,8,8]]).type(torch.FloatTensor)\n",
    "\n",
    "embeddings = nn.Embedding(num_embeddings=9, embedding_dim=5, padding_idx=0)   # V * d\n",
    "embeddings.weight = nn.Parameter(word_emb, requires_grad=False)\n",
    "\n",
    "conv1 = nn.Conv2d(in_channels=1, out_channels=3, kernel_size=(2, 5))\n",
    "pool1 = nn.MaxPool1d(7-2+1)\n",
    "\n",
    "\n",
    "X = torch.tensor([[2,3,4,5,6,7,8],[8,7,6,5,4,3,2]]).type(torch.LongTensor)\n",
    "\n",
    "print('X = ')\n",
    "print(X)\n",
    "eX = embeddings(X)\n",
    "print('eX = ', eX.size())\n",
    "print(eX)\n",
    "eX = eX.unsqueeze(1)\n",
    "print(eX.size())\n",
    "c1 = conv1(eX).squeeze(3)\n",
    "print('c1 = ', c1.size())\n",
    "print(c1)\n",
    "c1p = pool1(c1).squeeze(2)\n",
    "print('c1p = ', c1p.size())\n",
    "print(c1p)"
   ]
  },
  {
   "cell_type": "code",
   "execution_count": 28,
   "metadata": {},
   "outputs": [
    {
     "name": "stdout",
     "output_type": "stream",
     "text": [
      "X = \n",
      "tensor([[2, 3, 4],\n",
      "        [6, 7, 0]])\n",
      "eX = \n",
      "tensor([[[2., 2., 2., 2., 2.],\n",
      "         [3., 3., 3., 3., 3.],\n",
      "         [4., 4., 4., 4., 4.]],\n",
      "\n",
      "        [[6., 6., 6., 6., 6.],\n",
      "         [7., 7., 7., 7., 7.],\n",
      "         [0., 0., 0., 0., 0.]]])\n",
      "l_o = \n",
      "tensor([[[-1.6737e-01,  2.8292e-02,  6.9431e-02, -2.8011e-02,  3.8141e-02,\n",
      "          -3.4370e-02,  1.0937e-01, -2.7169e-02, -2.6018e-03, -1.3850e-01,\n",
      "          -2.0993e-01, -7.8169e-02, -1.8952e-01, -1.0134e-01],\n",
      "         [-2.5609e-01,  5.0148e-02,  1.0726e-01, -5.6000e-02,  5.5745e-02,\n",
      "          -4.6080e-02,  1.3880e-01, -2.3304e-02, -1.4487e-02, -1.1174e-01,\n",
      "          -2.0125e-01, -8.0383e-02, -1.6329e-01, -8.5320e-02],\n",
      "         [-2.9957e-01,  6.5413e-02,  1.2522e-01, -8.3754e-02,  6.6857e-02,\n",
      "          -4.5825e-02,  1.4098e-01, -1.7367e-02, -2.7340e-02, -6.9956e-02,\n",
      "          -1.6518e-01, -6.3094e-02, -1.0805e-01, -5.9518e-02]],\n",
      "\n",
      "        [[-1.6780e-01,  2.7649e-02,  6.8679e-02, -2.6114e-02,  3.7596e-02,\n",
      "          -3.4416e-02,  1.0957e-01, -2.7389e-02, -9.8370e-05, -1.3781e-01,\n",
      "          -2.0861e-01, -7.6355e-02, -1.9133e-01, -1.0263e-01],\n",
      "         [-2.5733e-01,  4.9325e-02,  1.0668e-01, -5.2790e-02,  5.4078e-02,\n",
      "          -4.6495e-02,  1.3934e-01, -2.3626e-02, -1.3465e-02, -1.1106e-01,\n",
      "          -1.9884e-01, -7.7765e-02, -1.6636e-01, -8.7130e-02],\n",
      "         [-3.0016e-01,  6.6451e-02,  1.2535e-01, -8.0087e-02,  6.3963e-02,\n",
      "          -4.7095e-02,  1.4156e-01, -1.7603e-02, -2.6818e-02, -6.9456e-02,\n",
      "          -1.6315e-01, -6.0844e-02, -1.0975e-01, -6.0992e-02]]],\n",
      "       grad_fn=<TransposeBackward0>)\n",
      "feature_map =  torch.Size([2, 3, 19])\n",
      "tensor([[[-1.6737e-01,  2.8292e-02,  6.9431e-02, -2.8011e-02,  3.8141e-02,\n",
      "          -3.4370e-02,  1.0937e-01, -2.7169e-02, -2.6018e-03, -1.3850e-01,\n",
      "          -2.0993e-01, -7.8169e-02, -1.8952e-01, -1.0134e-01,  2.0000e+00,\n",
      "           2.0000e+00,  2.0000e+00,  2.0000e+00,  2.0000e+00],\n",
      "         [-2.5609e-01,  5.0148e-02,  1.0726e-01, -5.6000e-02,  5.5745e-02,\n",
      "          -4.6080e-02,  1.3880e-01, -2.3304e-02, -1.4487e-02, -1.1174e-01,\n",
      "          -2.0125e-01, -8.0383e-02, -1.6329e-01, -8.5320e-02,  3.0000e+00,\n",
      "           3.0000e+00,  3.0000e+00,  3.0000e+00,  3.0000e+00],\n",
      "         [-2.9957e-01,  6.5413e-02,  1.2522e-01, -8.3754e-02,  6.6857e-02,\n",
      "          -4.5825e-02,  1.4098e-01, -1.7367e-02, -2.7340e-02, -6.9956e-02,\n",
      "          -1.6518e-01, -6.3094e-02, -1.0805e-01, -5.9518e-02,  4.0000e+00,\n",
      "           4.0000e+00,  4.0000e+00,  4.0000e+00,  4.0000e+00]],\n",
      "\n",
      "        [[-1.6780e-01,  2.7649e-02,  6.8679e-02, -2.6114e-02,  3.7596e-02,\n",
      "          -3.4416e-02,  1.0957e-01, -2.7389e-02, -9.8370e-05, -1.3781e-01,\n",
      "          -2.0861e-01, -7.6355e-02, -1.9133e-01, -1.0263e-01,  6.0000e+00,\n",
      "           6.0000e+00,  6.0000e+00,  6.0000e+00,  6.0000e+00],\n",
      "         [-2.5733e-01,  4.9325e-02,  1.0668e-01, -5.2790e-02,  5.4078e-02,\n",
      "          -4.6495e-02,  1.3934e-01, -2.3626e-02, -1.3465e-02, -1.1106e-01,\n",
      "          -1.9884e-01, -7.7765e-02, -1.6636e-01, -8.7130e-02,  7.0000e+00,\n",
      "           7.0000e+00,  7.0000e+00,  7.0000e+00,  7.0000e+00],\n",
      "         [-3.0016e-01,  6.6451e-02,  1.2535e-01, -8.0087e-02,  6.3963e-02,\n",
      "          -4.7095e-02,  1.4156e-01, -1.7603e-02, -2.6818e-02, -6.9456e-02,\n",
      "          -1.6315e-01, -6.0844e-02, -1.0975e-01, -6.0992e-02,  0.0000e+00,\n",
      "           0.0000e+00,  0.0000e+00,  0.0000e+00,  0.0000e+00]]],\n",
      "       grad_fn=<CatBackward>)\n",
      "conv_out =  torch.Size([2, 19])\n",
      "tensor([[-1.6737e-01,  6.5413e-02,  1.2522e-01, -2.8011e-02,  6.6857e-02,\n",
      "         -3.4370e-02,  1.4098e-01, -1.7367e-02, -2.6018e-03, -6.9956e-02,\n",
      "         -1.6518e-01, -6.3094e-02, -1.0805e-01, -5.9518e-02,  4.0000e+00,\n",
      "          4.0000e+00,  4.0000e+00,  4.0000e+00,  4.0000e+00],\n",
      "        [-1.6780e-01,  6.6451e-02,  1.2535e-01, -2.6114e-02,  6.3963e-02,\n",
      "         -3.4416e-02,  1.4156e-01, -1.7603e-02, -9.8370e-05, -6.9456e-02,\n",
      "         -1.6315e-01, -6.0844e-02, -1.0975e-01, -6.0992e-02,  7.0000e+00,\n",
      "          7.0000e+00,  7.0000e+00,  7.0000e+00,  7.0000e+00]],\n",
      "       grad_fn=<SqueezeBackward1>)\n"
     ]
    }
   ],
   "source": [
    "## Understand Operations\n",
    "from torch.nn import functional as F\n",
    "\n",
    "word_emb = torch.tensor([\n",
    "    [0,0,0,0,0],\n",
    "    [1,1,1,1,1],\n",
    "    [2,2,2,2,2],\n",
    "    [3,3,3,3,3],\n",
    "    [4,4,4,4,4],\n",
    "    [5,5,5,5,5],\n",
    "    [6,6,6,6,6],\n",
    "    [7,7,7,7,7],\n",
    "    [8,8,8,8,8]]).type(torch.FloatTensor)\n",
    "\n",
    "embeddings = nn.Embedding(num_embeddings=9, embedding_dim=5, padding_idx=0)   # V * d\n",
    "embeddings.weight = nn.Parameter(word_emb, requires_grad=False)\n",
    "\n",
    "lstm = nn.LSTM(input_size=5, hidden_size=7, num_layers=4, batch_first=True, bidirectional=True)\n",
    "\n",
    "X = torch.tensor([[2,3,4],[6,7,0]]).type(torch.LongTensor)\n",
    "\n",
    "maxpool1 = nn.MaxPool1d(3)\n",
    "\n",
    "print('X = ')\n",
    "print(X)\n",
    "eX = embeddings(X)\n",
    "print('eX = ')\n",
    "print(eX)\n",
    "l_o, (h_n, c_n) = lstm(eX)\n",
    "print('l_o = ')\n",
    "print(l_o)\n",
    "feature_map = torch.cat([l_o, eX], dim=2)\n",
    "print('feature_map = ', feature_map.size())\n",
    "print(feature_map)\n",
    "conv_out = F.max_pool1d(feature_map.permute(0,2,1), feature_map.permute(0,2,1).shape[2]).squeeze(2)\n",
    "print('conv_out = ', conv_out.size())\n",
    "print(conv_out)"
   ]
  },
  {
   "cell_type": "code",
   "execution_count": null,
   "metadata": {},
   "outputs": [],
   "source": []
  }
 ],
 "metadata": {
  "kernelspec": {
   "display_name": "Python 3",
   "language": "python",
   "name": "python3"
  },
  "language_info": {
   "codemirror_mode": {
    "name": "ipython",
    "version": 3
   },
   "file_extension": ".py",
   "mimetype": "text/x-python",
   "name": "python",
   "nbconvert_exporter": "python",
   "pygments_lexer": "ipython3",
   "version": "3.6.5"
  }
 },
 "nbformat": 4,
 "nbformat_minor": 2
}

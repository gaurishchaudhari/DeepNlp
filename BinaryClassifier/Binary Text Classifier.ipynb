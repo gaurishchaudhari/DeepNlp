{
 "cells": [
  {
   "cell_type": "markdown",
   "metadata": {},
   "source": [
    "# Sentiment Classification (Binary) on Imdb Review Dataset\n"
   ]
  },
  {
   "cell_type": "code",
   "execution_count": 1,
   "metadata": {},
   "outputs": [],
   "source": [
    "# Imports\n",
    "\n",
    "import sys\n",
    "import os\n",
    "import re\n",
    "import importlib\n",
    "import numpy as np\n",
    "from datetime import datetime\n",
    "from bunch import Bunch\n",
    "from sklearn.utils import shuffle\n",
    "import torch\n",
    "import torch.nn as nn\n",
    "import torch.optim as optim\n",
    "\n",
    "%matplotlib inline\n",
    "import matplotlib.pyplot as plt\n",
    "\n",
    "%load_ext autoreload\n",
    "%autoreload 2"
   ]
  },
  {
   "cell_type": "code",
   "execution_count": 2,
   "metadata": {},
   "outputs": [
    {
     "name": "stdout",
     "output_type": "stream",
     "text": [
      "[2019-11-10 17:32:16.601195] Loading data ...\n",
      "[2019-11-10 17:32:24.800883] Building vocab and loading glove embeddings ...\n",
      "[2019-11-10 17:32:30.109357] Creating X, y sequences ...\n",
      "[2019-11-10 17:32:32.038186] Padding X, y sequences ...\n"
     ]
    }
   ],
   "source": [
    "from helpers.dataset import Dataset\n",
    "\n",
    "glove_file = 'C:\\\\Workspace\\\\Git\\\\Data\\\\glove.6B\\\\glove.6B.100d.txt'\n",
    "data_root = 'C:\\\\Workspace\\\\Git\\\\Data\\\\aclImdb'\n",
    "categories = ['neg', 'pos']\n",
    "\n",
    "# Load dataset\n",
    "ds = Dataset(num_classes=2)\n",
    "print('[{}] Loading data ...'.format(datetime.now()))\n",
    "ds.load_dataset_from_dir(os.path.join(data_root, 'train'), os.path.join(data_root, 'test'), categories)\n",
    "\n",
    "print('[{}] Building vocab and loading glove embeddings ...'.format(datetime.now()))\n",
    "ds.build_vocab()\n",
    "ds.load_word_embeddings(glove_file)\n",
    "\n",
    "print('[{}] Creating X, y sequences ...'.format(datetime.now()))\n",
    "ds.compute_Xy()\n",
    "\n",
    "print('[{}] Padding X, y sequences ...'.format(datetime.now()))\n",
    "ds.pad_Xy(fixed_max_len=30)"
   ]
  },
  {
   "cell_type": "code",
   "execution_count": 3,
   "metadata": {},
   "outputs": [
    {
     "name": "stdout",
     "output_type": "stream",
     "text": [
      "Number of Raw Training records: 25000 examples, 25000 labels \n",
      "Number of Raw Test records: 25000 examples, 25000 labels \n",
      "Target Names: ['neg', 'pos']\n",
      "Label distribution in Training Set\n",
      "[[    0 12500]\n",
      " [    1 12500]]\n",
      "Label distribution in Test Set\n",
      "[[    0 12500]\n",
      " [    1 12500]]\n",
      "Vocab Size:  53858\n",
      "shape(word_embeddings):  (46197, 100)\n",
      "Top 5 Words in word2index map ['$PAD$(0)', '$UNK$(1)', 'the(2)', 'of(3)', 'to(4)', 'and(5)']\n",
      "shape(ds.X_train) =  (25000, 30)  dtype(ds.X_train) =  int64\n",
      "shape(ds.y_train) =  (25000, 1)  dtype(ds.y_train) =  int32\n",
      "shape(ds.X_test) =  (25000, 30)  dtype(ds.X_test) =  int64\n",
      "shape(ds.y_test) =  (25000, 1)  dtype(ds.y_test) =  int32\n",
      "Top 5 training examples:\n",
      "[#1]\t [0]\n",
      "\t [4904  339 2920  339   11    2  174   65    3    2]\n",
      "\t silent night deadly night is the very last of the series and like part it s unrelated to the first three except by title and the fact that it s\n",
      "[#2]\t [1]\n",
      "\t [    2  1072 24523     7   174   595   295    14     7   494]\n",
      "\t the idea ia a very short film with a lot of information interesting entertaining and leaves the viewer wanting more the producer has produced a short film of excellent quality\n",
      "[#3]\t [0]\n",
      "\t [   8  262   30  926  105 1589    4  743   10   39]\n",
      "\t for me this movie just seemed to fall on its face the main problem for me was the casting of glover as a serial killer i don t know whether\n",
      "[#4]\t [1]\n",
      "\t [  12   30  223   10    7 3935  503    7  897  170]\n",
      "\t was this based on a comic book a video game a drawing by a year old\n",
      "[#5]\t [1]\n",
      "\t [ 6681    92  3288 29045     0     0     0     0     0     0]\n",
      "\t caution may contain spoilers\n"
     ]
    }
   ],
   "source": [
    "def print_stats(ds):\n",
    "\n",
    "    print('Number of Raw Training records: {} examples, {} labels '.format(\n",
    "        len(ds.raw_train.data), len(ds.raw_train.target)))\n",
    "    print('Number of Raw Test records: {} examples, {} labels '.format(\n",
    "        len(ds.raw_test.data), len(ds.raw_test.target)))\n",
    "    print('Target Names:', ds.raw_train.target_names)\n",
    "\n",
    "    print('Label distribution in Training Set')\n",
    "    print(np.asarray(np.unique(ds.raw_train.target, return_counts=True)).T)\n",
    "    print('Label distribution in Test Set')\n",
    "    print(np.asarray(np.unique(ds.raw_test.target, return_counts=True)).T)\n",
    "\n",
    "    print('Vocab Size: ', len(ds.vocab))\n",
    "    print('shape(word_embeddings): ', ds.word_embeddings.shape)\n",
    "    print('Top 5 Words in word2index map', ['{}({})'.format(w, i) for w, i in ds.word2index.items() if i <= 5])\n",
    "\n",
    "    print('shape(ds.X_train) = ', ds.X_train.shape, ' dtype(ds.X_train) = ', ds.X_train.dtype)\n",
    "    print('shape(ds.y_train) = ', ds.y_train.shape, ' dtype(ds.y_train) = ', ds.y_train.dtype)\n",
    "    print('shape(ds.X_test) = ', ds.X_test.shape, ' dtype(ds.X_test) = ', ds.X_test.dtype)\n",
    "    print('shape(ds.y_test) = ', ds.y_test.shape, ' dtype(ds.y_test) = ', ds.y_test.dtype)\n",
    "\n",
    "    print('Top 5 training examples:')\n",
    "    for i in range(5):\n",
    "        print('[#{}]\\t {}'.format(i + 1, ds.y_train[i]))\n",
    "        print('\\t', ds.X_train[i][:10])\n",
    "        print('\\t', ' '.join(ds.raw_train.data[i].split()[:30]))\n",
    "        \n",
    "print_stats(ds)"
   ]
  },
  {
   "cell_type": "code",
   "execution_count": 4,
   "metadata": {},
   "outputs": [
    {
     "name": "stdout",
     "output_type": "stream",
     "text": [
      "shape(X_train) =  (7000, 30)  dtype(X_train) =  int64\n",
      "shape(y_train) =  (7000, 1)  dtype(y_train) =  int32\n",
      "shape(X_val) =  (3000, 30)  dtype(X_val) =  int64\n",
      "shape(y_val) =  (3000, 1)  dtype(y_val) =  int32\n",
      "Label distribution in Training Set\n",
      "[[   0 3532]\n",
      " [   1 3468]]\n",
      "Label distribution in Validation Set\n",
      "[[   0 1483]\n",
      " [   1 1517]]\n"
     ]
    }
   ],
   "source": [
    "maxN = min(10000, len(ds.X_train)) \n",
    "split = int(0.7 * maxN)\n",
    "\n",
    "offset = 5000\n",
    "\n",
    "X_train = ds.X_train[offset:offset+split]\n",
    "y_train = ds.y_train[offset:offset+split]\n",
    "X_train_seqlen = ds.X_train_seqlen[offset:offset+split]\n",
    "\n",
    "X_val = ds.X_train[offset+split:offset+maxN]\n",
    "y_val = ds.y_train[offset+split:offset+maxN]\n",
    "X_val_seqlen = ds.X_train_seqlen[offset+split:offset+maxN]\n",
    "\n",
    "word_embeddings = ds.word_embeddings\n",
    "\n",
    "print('shape(X_train) = ', X_train.shape, ' dtype(X_train) = ', X_train.dtype)\n",
    "print('shape(y_train) = ', y_train.shape, ' dtype(y_train) = ', y_train.dtype)\n",
    "print('shape(X_val) = ', X_val.shape, ' dtype(X_val) = ', X_val.dtype)\n",
    "print('shape(y_val) = ', y_val.shape, ' dtype(y_val) = ', y_val.dtype)\n",
    "    \n",
    "print('Label distribution in Training Set')\n",
    "print(np.asarray(np.unique(y_train, return_counts=True)).T)\n",
    "print('Label distribution in Validation Set')\n",
    "print(np.asarray(np.unique(y_val, return_counts=True)).T)"
   ]
  },
  {
   "cell_type": "code",
   "execution_count": 5,
   "metadata": {},
   "outputs": [],
   "source": [
    "from helpers.utils import mini_batches\n",
    "from helpers.evaluate import evaluate_model, predict_instance\n",
    "\n",
    "class DeepModel:\n",
    "    \n",
    "    def __init__(self, model, lr):\n",
    "        self.model = model\n",
    "        \n",
    "        self.optimizer = optim.Adam(self.model.parameters(), lr=lr)\n",
    "        self.loss_op = nn.BCELoss()  # binary cross entropy loss\n",
    "\n",
    "        self.model.set_optimizer(self.optimizer)\n",
    "        self.model.set_loss_op(self.loss_op)\n",
    "\n",
    "        self.epoch_losses = []\n",
    "        self.epoch_metrics = []\n",
    "        self.train_losses = []\n",
    "        self.val_losses = []\n",
    "        \n",
    "\n",
    "    def train(self, num_epochs, train_X, train_y, train_X_seqlen, val_X, val_y, val_X_seqlen, epoch_interval_for_lr = 3):\n",
    "        for epoch in range(num_epochs):\n",
    "\n",
    "            #X_train, y_train, X_train_seqlen = shuffle(X_train, y_train, X_train_seqlen, random_state=17)\n",
    "            epoch_loss = self.model.run_epoch(train_X, train_y, train_X_seqlen)\n",
    "\n",
    "            accuracy1, correct1, total1, loss1 = evaluate_model(self.model, train_X, train_y, train_X_seqlen, self.model.config.batch_size)\n",
    "            accuracy2, correct2, total2, loss2 = evaluate_model(self.model, val_X, val_y, val_X_seqlen, self.model.config.batch_size)\n",
    "\n",
    "            self.epoch_losses.append(epoch_loss)\n",
    "            self.train_losses.append(loss1)\n",
    "            self.val_losses.append(loss2)\n",
    "            self.epoch_metrics.append('Training: {:.3f}% (={}/{}) L={:.5f}, Validation: {:.3f}% (={}/{}), L={:.5f}'.format(\n",
    "                accuracy1, correct1, total1, loss1, accuracy2, correct2, total2, loss2))\n",
    "            print('Epoch: {}/{}, Loss: {:.8f}, {}'.format(epoch+1, num_epochs, self.epoch_losses[-1], self.epoch_metrics[-1]))\n",
    "\n",
    "            if (epoch + 1) % epoch_interval_for_lr == 0:\n",
    "                # reduce learning rate\n",
    "                for g in self.model.optimizer.param_groups:\n",
    "                    g['lr'] = g['lr'] / 2                    \n",
    "                print('Updated Learning Rate = ', set(g['lr'] for g in self.model.optimizer.param_groups))\n",
    "   \n",
    "\n",
    "    def plot_loss(self):\n",
    "        \n",
    "        plt.plot(self.train_losses)\n",
    "        plt.plot(self.val_losses)\n",
    "        plt.title(type(self.model).__name__)\n",
    "        plt.ylabel('loss')\n",
    "        plt.xlabel('epoch')\n",
    "        plt.legend(['train loss', 'validation loss'], loc='upper right')\n",
    "        plt.show()\n",
    "\n",
    "        \n",
    "    def evaluate(self, test_X, test_y, test_X_seqlen):\n",
    "        accuracy, correct, total, loss = evaluate_model(self.model, test_X, test_y, test_X_seqlen, self.model.config.batch_size)\n",
    "        metric = '{:.3f}% (={}/{}) L={:.5f}'.format(accuracy, correct, total, loss)\n",
    "        print('Test Set Metric: ', metric)\n",
    "        \n",
    "        \n",
    "    def predict(self, ds, input_texts = ['this is a good movie', 'this is worst movie i have seen']):\n",
    "        for text in input_texts:\n",
    "            lbl, score = predict_instance(self.model, ds, text)\n",
    "            print('LABEL = {}, SCORE={:.4f}, INPUT = {}'.format(lbl, score, text))\n",
    "        "
   ]
  },
  {
   "cell_type": "markdown",
   "metadata": {},
   "source": [
    "# TextRNN"
   ]
  },
  {
   "cell_type": "code",
   "execution_count": 6,
   "metadata": {},
   "outputs": [],
   "source": [
    "config = Bunch()\n",
    "config.vocab_size, config.embed_size = word_embeddings.shape\n",
    "config.output_size = 1\n",
    "config.hidden_size = 50\n",
    "config.num_lstm_layers = 2\n",
    "config.isBidirectional = True\n",
    "config.dropout_p = 0.5\n",
    "config.batch_size = 64\n",
    "config.lr = 0.001\n",
    "\n",
    "from helpers.TextRNN import TextRNN\n",
    "\n",
    "tm = TextRNN(config, torch.from_numpy(word_embeddings).type(torch.FloatTensor))\n",
    "textRnn = DeepModel(tm, config.lr)"
   ]
  },
  {
   "cell_type": "code",
   "execution_count": 7,
   "metadata": {},
   "outputs": [
    {
     "name": "stdout",
     "output_type": "stream",
     "text": [
      "Epoch: 1/10, Loss: 0.68185765, Training: 63.386% (=4437/7000) L=0.64937, Validation: 63.600% (=1908/3000), L=0.65066\n",
      "Epoch: 2/10, Loss: 0.62330646, Training: 67.886% (=4752/7000) L=0.59023, Validation: 67.300% (=2019/3000), L=0.59576\n",
      "Epoch: 3/10, Loss: 0.58124931, Training: 68.614% (=4803/7000) L=0.57218, Validation: 67.733% (=2032/3000), L=0.58902\n",
      "Updated Learning Rate =  {0.0005}\n",
      "Epoch: 4/10, Loss: 0.55758478, Training: 72.457% (=5072/7000) L=0.53390, Validation: 70.800% (=2124/3000), L=0.55901\n",
      "Epoch: 5/10, Loss: 0.54313208, Training: 73.443% (=5141/7000) L=0.52166, Validation: 71.000% (=2130/3000), L=0.56324\n",
      "Epoch: 6/10, Loss: 0.53323843, Training: 74.000% (=5180/7000) L=0.51183, Validation: 70.967% (=2129/3000), L=0.56750\n",
      "Updated Learning Rate =  {0.00025}\n",
      "Epoch: 7/10, Loss: 0.51717101, Training: 74.671% (=5227/7000) L=0.49961, Validation: 70.600% (=2118/3000), L=0.56275\n",
      "Epoch: 8/10, Loss: 0.50678403, Training: 75.100% (=5257/7000) L=0.49166, Validation: 70.367% (=2111/3000), L=0.56564\n",
      "Epoch: 9/10, Loss: 0.50056687, Training: 75.386% (=5277/7000) L=0.48469, Validation: 70.367% (=2111/3000), L=0.56859\n",
      "Updated Learning Rate =  {0.000125}\n",
      "Epoch: 10/10, Loss: 0.49230479, Training: 75.914% (=5314/7000) L=0.47861, Validation: 70.233% (=2107/3000), L=0.56485\n"
     ]
    },
    {
     "data": {
      "image/png": "[encoded data removed]",
      "text/plain": [
       "<Figure size 432x288 with 1 Axes>"
      ]
     },
     "metadata": {
      "needs_background": "light"
     },
     "output_type": "display_data"
    },
    {
     "name": "stdout",
     "output_type": "stream",
     "text": [
      "==== EVALUATION ===== \n",
      "Test Set Metric:  69.840% (=17460/25000) L=0.56625\n",
      "==== PREDICT ===== \n",
      "LABEL = 1, SCORE=0.8726, INPUT = this is a good movie\n",
      "LABEL = 0, SCORE=0.0350, INPUT = this is worst movie i have seen\n"
     ]
    }
   ],
   "source": [
    "textRnn.train(10, X_train, y_train, X_train_seqlen, X_val, y_val, X_val_seqlen)\n",
    "\n",
    "textRnn.plot_loss()\n",
    "\n",
    "print('==== EVALUATION ===== ')\n",
    "textRnn.evaluate(ds.X_test, ds.y_test, ds.X_test_seqlen)\n",
    "\n",
    "print('==== PREDICT ===== ')\n",
    "textRnn.predict(ds)"
   ]
  },
  {
   "cell_type": "markdown",
   "metadata": {},
   "source": [
    "# TextCNN"
   ]
  },
  {
   "cell_type": "code",
   "execution_count": 8,
   "metadata": {},
   "outputs": [],
   "source": [
    "config = Bunch()\n",
    "config.vocab_size, config.embed_size = word_embeddings.shape\n",
    "config.output_size = 1\n",
    "config.max_seq_len = 30\n",
    "config.num_channels = 100\n",
    "config.kernel_size = [3,4,5]\n",
    "config.dropout_p = 0.5\n",
    "config.batch_size = 64\n",
    "config.lr = 0.001\n",
    "\n",
    "from helpers.TextCNN import TextCNN\n",
    "\n",
    "tm = TextCNN(config, torch.from_numpy(word_embeddings).type(torch.FloatTensor))\n",
    "\n",
    "textCnn = DeepModel(tm, config.lr)"
   ]
  },
  {
   "cell_type": "code",
   "execution_count": 9,
   "metadata": {},
   "outputs": [
    {
     "name": "stdout",
     "output_type": "stream",
     "text": [
      "Epoch: 1/10, Loss: 0.66817270, Training: 65.700% (=4599/7000) L=0.60909, Validation: 61.700% (=1851/3000), L=0.63728\n",
      "Epoch: 2/10, Loss: 0.59428608, Training: 71.429% (=5000/7000) L=0.55120, Validation: 65.867% (=1976/3000), L=0.60792\n",
      "Epoch: 3/10, Loss: 0.54478901, Training: 77.757% (=5443/7000) L=0.49194, Validation: 69.033% (=2071/3000), L=0.58181\n",
      "Updated Learning Rate =  {0.0005}\n",
      "Epoch: 4/10, Loss: 0.49530017, Training: 81.400% (=5698/7000) L=0.44960, Validation: 70.300% (=2109/3000), L=0.57076\n",
      "Epoch: 5/10, Loss: 0.46872508, Training: 83.357% (=5835/7000) L=0.42090, Validation: 70.633% (=2119/3000), L=0.57204\n",
      "Epoch: 6/10, Loss: 0.44062760, Training: 84.743% (=5932/7000) L=0.39766, Validation: 69.800% (=2094/3000), L=0.58007\n",
      "Updated Learning Rate =  {0.00025}\n",
      "Epoch: 7/10, Loss: 0.40757759, Training: 86.829% (=6078/7000) L=0.36531, Validation: 70.633% (=2119/3000), L=0.56811\n",
      "Epoch: 8/10, Loss: 0.38618118, Training: 88.543% (=6198/7000) L=0.34488, Validation: 70.967% (=2129/3000), L=0.56685\n",
      "Epoch: 9/10, Loss: 0.36929410, Training: 89.343% (=6254/7000) L=0.32977, Validation: 71.100% (=2133/3000), L=0.56806\n",
      "Updated Learning Rate =  {0.000125}\n",
      "Epoch: 10/10, Loss: 0.34969242, Training: 90.443% (=6331/7000) L=0.31592, Validation: 71.000% (=2130/3000), L=0.56533\n"
     ]
    },
    {
     "data": {
      "image/png": "[encoded data removed]",
      "text/plain": [
       "<Figure size 432x288 with 1 Axes>"
      ]
     },
     "metadata": {
      "needs_background": "light"
     },
     "output_type": "display_data"
    },
    {
     "name": "stdout",
     "output_type": "stream",
     "text": [
      "==== EVALUATION ===== \n",
      "Test Set Metric:  70.196% (=17549/25000) L=0.56333\n",
      "==== PREDICT ===== \n",
      "LABEL = 1, SCORE=0.6811, INPUT = this is a good movie\n",
      "LABEL = 0, SCORE=0.0209, INPUT = this is worst movie i have seen\n"
     ]
    }
   ],
   "source": [
    "textCnn.train(10, X_train, y_train, X_train_seqlen, X_val, y_val, X_val_seqlen)\n",
    "\n",
    "textCnn.plot_loss()\n",
    "\n",
    "print('==== EVALUATION ===== ')\n",
    "textCnn.evaluate(ds.X_test, ds.y_test, ds.X_test_seqlen)\n",
    "\n",
    "print('==== PREDICT ===== ')\n",
    "textCnn.predict(ds)"
   ]
  },
  {
   "cell_type": "markdown",
   "metadata": {},
   "source": [
    "# Play with Toy Data"
   ]
  },
  {
   "cell_type": "code",
   "execution_count": 10,
   "metadata": {},
   "outputs": [
    {
     "name": "stdout",
     "output_type": "stream",
     "text": [
      "X = \n",
      "tensor([[2, 3, 4],\n",
      "        [6, 7, 0]])\n",
      "eX = \n",
      "tensor([[[2., 2., 2., 2., 2.],\n",
      "         [3., 3., 3., 3., 3.],\n",
      "         [4., 4., 4., 4., 4.]],\n",
      "\n",
      "        [[6., 6., 6., 6., 6.],\n",
      "         [7., 7., 7., 7., 7.],\n",
      "         [0., 0., 0., 0., 0.]]])\n",
      "h_n = \n",
      "tensor([[[ 0.7915, -0.1084, -0.2618,  0.1679,  0.0440, -0.7554, -0.5063],\n",
      "         [ 0.5276, -0.4043,  0.0175,  0.2580,  0.1024, -0.3890, -0.2707]],\n",
      "\n",
      "        [[ 0.2485,  0.1212,  0.0561, -0.6016,  0.5162, -0.4252,  0.3071],\n",
      "         [ 0.1175,  0.0274,  0.0299, -0.7754,  0.6223, -0.1484,  0.1972]],\n",
      "\n",
      "        [[-0.1246,  0.1081, -0.0599,  0.2184, -0.1115, -0.0730,  0.2251],\n",
      "         [-0.1479,  0.1668, -0.0972,  0.0909, -0.1165, -0.0078,  0.1779]],\n",
      "\n",
      "        [[-0.0680, -0.0807, -0.1351, -0.1883, -0.1086,  0.1830,  0.2259],\n",
      "         [-0.0564, -0.1750, -0.1128, -0.1936, -0.0741,  0.1665,  0.1959]]],\n",
      "       grad_fn=<StackBackward>)\n",
      "fi = \n",
      "tensor([[ 0.7915, -0.1084, -0.2618,  0.1679,  0.0440, -0.7554, -0.5063,  0.2485,\n",
      "          0.1212,  0.0561, -0.6016,  0.5162, -0.4252,  0.3071, -0.1246,  0.1081,\n",
      "         -0.0599,  0.2184, -0.1115, -0.0730,  0.2251, -0.0680, -0.0807, -0.1351,\n",
      "         -0.1883, -0.1086,  0.1830,  0.2259],\n",
      "        [ 0.5276, -0.4043,  0.0175,  0.2580,  0.1024, -0.3890, -0.2707,  0.1175,\n",
      "          0.0274,  0.0299, -0.7754,  0.6223, -0.1484,  0.1972, -0.1479,  0.1668,\n",
      "         -0.0972,  0.0909, -0.1165, -0.0078,  0.1779, -0.0564, -0.1750, -0.1128,\n",
      "         -0.1936, -0.0741,  0.1665,  0.1959]], grad_fn=<CatBackward>)\n",
      "fv = \n",
      "tensor([[ 0.7915, -0.1084, -0.2618,  0.1679,  0.0440, -0.7554, -0.5063,  0.5276,\n",
      "         -0.4043,  0.0175,  0.2580,  0.1024, -0.3890, -0.2707,  0.2485,  0.1212,\n",
      "          0.0561, -0.6016,  0.5162, -0.4252,  0.3071,  0.1175,  0.0274,  0.0299,\n",
      "         -0.7754,  0.6223, -0.1484,  0.1972],\n",
      "        [-0.1246,  0.1081, -0.0599,  0.2184, -0.1115, -0.0730,  0.2251, -0.1479,\n",
      "          0.1668, -0.0972,  0.0909, -0.1165, -0.0078,  0.1779, -0.0680, -0.0807,\n",
      "         -0.1351, -0.1883, -0.1086,  0.1830,  0.2259, -0.0564, -0.1750, -0.1128,\n",
      "         -0.1936, -0.0741,  0.1665,  0.1959]], grad_fn=<ViewBackward>)\n"
     ]
    }
   ],
   "source": [
    "## Understand Operations\n",
    "\n",
    "word_emb = torch.tensor([\n",
    "    [0,0,0,0,0],\n",
    "    [1,1,1,1,1],\n",
    "    [2,2,2,2,2],\n",
    "    [3,3,3,3,3],\n",
    "    [4,4,4,4,4],\n",
    "    [5,5,5,5,5],\n",
    "    [6,6,6,6,6],\n",
    "    [7,7,7,7,7],\n",
    "    [8,8,8,8,8]]).type(torch.FloatTensor)\n",
    "\n",
    "embeddings = nn.Embedding(num_embeddings=9, embedding_dim=5, padding_idx=0)   # V * d\n",
    "embeddings.weight = nn.Parameter(word_emb, requires_grad=False)\n",
    "\n",
    "lstm = nn.LSTM(input_size=5, hidden_size=7, num_layers=2, batch_first=True, bidirectional=True)\n",
    "\n",
    "X = torch.tensor([[2,3,4],[6,7,0]]).type(torch.LongTensor)\n",
    "\n",
    "print('X = ')\n",
    "print(X)\n",
    "eX = embeddings(X)\n",
    "print('eX = ')\n",
    "print(eX)\n",
    "l_o, (h_n, c_n) = lstm(eX)\n",
    "print('h_n = ')\n",
    "print(h_n)\n",
    "fi = torch.cat([h_n[i, :, :] for i in range(h_n.shape[0])], dim=1)\n",
    "print('fi = ')\n",
    "print(fi)\n",
    "fv = h_n.view(-1, h_n.size()[0] * h_n.size()[2])\n",
    "print('fv = ')\n",
    "print(fv)"
   ]
  },
  {
   "cell_type": "code",
   "execution_count": 11,
   "metadata": {},
   "outputs": [
    {
     "name": "stdout",
     "output_type": "stream",
     "text": [
      "X = \n",
      "tensor([[2, 3, 4, 5, 6, 7, 8],\n",
      "        [8, 7, 6, 5, 4, 3, 2]])\n",
      "eX =  torch.Size([2, 7, 5])\n",
      "tensor([[[2., 2., 2., 2., 2.],\n",
      "         [3., 3., 3., 3., 3.],\n",
      "         [4., 4., 4., 4., 4.],\n",
      "         [5., 5., 5., 5., 5.],\n",
      "         [6., 6., 6., 6., 6.],\n",
      "         [7., 7., 7., 7., 7.],\n",
      "         [8., 8., 8., 8., 8.]],\n",
      "\n",
      "        [[8., 8., 8., 8., 8.],\n",
      "         [7., 7., 7., 7., 7.],\n",
      "         [6., 6., 6., 6., 6.],\n",
      "         [5., 5., 5., 5., 5.],\n",
      "         [4., 4., 4., 4., 4.],\n",
      "         [3., 3., 3., 3., 3.],\n",
      "         [2., 2., 2., 2., 2.]]])\n",
      "torch.Size([2, 1, 7, 5])\n",
      "c1 =  torch.Size([2, 3, 6])\n",
      "tensor([[[ 0.0595, -0.0114, -0.0824, -0.1533, -0.2242, -0.2951],\n",
      "         [-1.6791, -2.2003, -2.7215, -3.2427, -3.7639, -4.2851],\n",
      "         [-1.4273, -1.8667, -2.3062, -2.7456, -3.1850, -3.6244]],\n",
      "\n",
      "        [[-0.1622, -0.0913, -0.0203,  0.0506,  0.1215,  0.1924],\n",
      "         [-3.6962, -3.1750, -2.6538, -2.1326, -1.6114, -1.0902],\n",
      "         [-3.5852, -3.1458, -2.7063, -2.2669, -1.8275, -1.3881]]],\n",
      "       grad_fn=<SqueezeBackward1>)\n",
      "c1p =  torch.Size([2, 3])\n",
      "tensor([[ 0.0595, -1.6791, -1.4273],\n",
      "        [ 0.1924, -1.0902, -1.3881]], grad_fn=<SqueezeBackward1>)\n"
     ]
    }
   ],
   "source": [
    "## Understand Operations\n",
    "\n",
    "word_emb = torch.tensor([\n",
    "    [0,0,0,0,0],\n",
    "    [1,1,1,1,1],\n",
    "    [2,2,2,2,2],\n",
    "    [3,3,3,3,3],\n",
    "    [4,4,4,4,4],\n",
    "    [5,5,5,5,5],\n",
    "    [6,6,6,6,6],\n",
    "    [7,7,7,7,7],\n",
    "    [8,8,8,8,8]]).type(torch.FloatTensor)\n",
    "\n",
    "embeddings = nn.Embedding(num_embeddings=9, embedding_dim=5, padding_idx=0)   # V * d\n",
    "embeddings.weight = nn.Parameter(word_emb, requires_grad=False)\n",
    "\n",
    "conv1 = nn.Conv2d(in_channels=1, out_channels=3, kernel_size=(2, 5))\n",
    "pool1 = nn.MaxPool1d(7-2+1)\n",
    "\n",
    "\n",
    "X = torch.tensor([[2,3,4,5,6,7,8],[8,7,6,5,4,3,2]]).type(torch.LongTensor)\n",
    "\n",
    "print('X = ')\n",
    "print(X)\n",
    "eX = embeddings(X)\n",
    "print('eX = ', eX.size())\n",
    "print(eX)\n",
    "eX = eX.unsqueeze(1)\n",
    "print(eX.size())\n",
    "c1 = conv1(eX).squeeze(3)\n",
    "print('c1 = ', c1.size())\n",
    "print(c1)\n",
    "c1p = pool1(c1).squeeze(2)\n",
    "print('c1p = ', c1p.size())\n",
    "print(c1p)"
   ]
  }
 ],
 "metadata": {
  "kernelspec": {
   "display_name": "Python 3",
   "language": "python",
   "name": "python3"
  },
  "language_info": {
   "codemirror_mode": {
    "name": "ipython",
    "version": 3
   },
   "file_extension": ".py",
   "mimetype": "text/x-python",
   "name": "python",
   "nbconvert_exporter": "python",
   "pygments_lexer": "ipython3",
   "version": "3.6.8"
  }
 },
 "nbformat": 4,
 "nbformat_minor": 2
}

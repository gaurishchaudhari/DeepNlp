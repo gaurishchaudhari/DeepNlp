{
 "cells": [
  {
   "cell_type": "markdown",
   "metadata": {},
   "source": [
    "# Sentiment Classification (Binary) on Imdb Review Dataset"
   ]
  },
  {
   "cell_type": "code",
   "execution_count": 9,
   "metadata": {},
   "outputs": [],
   "source": [
    "# Imports\n",
    "\n",
    "import sys\n",
    "import os\n",
    "import re\n",
    "import numpy as np\n",
    "from datetime import datetime\n",
    "from bunch import Bunch\n",
    "import torch\n",
    "import torch.nn as nn\n",
    "\n",
    "%matplotlib inline\n",
    "import matplotlib.pyplot as plt"
   ]
  },
  {
   "cell_type": "code",
   "execution_count": 2,
   "metadata": {},
   "outputs": [
    {
     "name": "stdout",
     "output_type": "stream",
     "text": [
      "[2019-11-09 19:54:17.593910] Loading data ...\n",
      "[2019-11-09 19:56:55.160706] Building vocab and loading glove embeddings ...\n",
      "[2019-11-09 19:56:59.822337] Creating X, y sequences ...\n",
      "[2019-11-09 19:57:01.691016] Padding X, y sequences ...\n"
     ]
    }
   ],
   "source": [
    "from helpers.dataset import Dataset\n",
    "\n",
    "glove_file = 'C:\\\\Workspace\\\\Git\\\\Data\\\\glove.6B\\\\glove.6B.100d.txt'\n",
    "data_root = 'C:\\\\Workspace\\\\Git\\\\Data\\\\aclImdb'\n",
    "categories = ['neg', 'pos']\n",
    "\n",
    "# Load dataset\n",
    "ds = Dataset(num_classes=2)\n",
    "print('[{}] Loading data ...'.format(datetime.now()))\n",
    "ds.load_dataset_from_dir(os.path.join(data_root, 'train'), os.path.join(data_root, 'test'), categories)\n",
    "\n",
    "print('[{}] Building vocab and loading glove embeddings ...'.format(datetime.now()))\n",
    "ds.build_vocab()\n",
    "ds.load_word_embeddings(glove_file)\n",
    "\n",
    "print('[{}] Creating X, y sequences ...'.format(datetime.now()))\n",
    "ds.compute_Xy()\n",
    "\n",
    "print('[{}] Padding X, y sequences ...'.format(datetime.now()))\n",
    "ds.pad_Xy(fixed_max_len=30)"
   ]
  },
  {
   "cell_type": "code",
   "execution_count": 3,
   "metadata": {},
   "outputs": [
    {
     "name": "stdout",
     "output_type": "stream",
     "text": [
      "Number of Raw Training records: 25000 examples, 25000 labels \n",
      "Number of Raw Test records: 25000 examples, 25000 labels \n",
      "Target Names: ['neg', 'pos']\n",
      "Label distribution in Training Set\n",
      "[[    0 12500]\n",
      " [    1 12500]]\n",
      "Label distribution in Test Set\n",
      "[[    0 12500]\n",
      " [    1 12500]]\n",
      "Vocab Size:  53858\n",
      "shape(word_embeddings):  (46197, 100)\n",
      "Top 5 Words in word2index map ['$PAD$(0)', '$UNK$(1)', 'the(2)', 'of(3)', 'to(4)', 'and(5)']\n",
      "shape(X_train) =  (25000, 30)  dtype(X_train) =  int64\n",
      "shape(y_train) =  (25000, 1)  dtype(y_train) =  int32\n",
      "shape(X_test) =  (25000, 30)  dtype(X_test) =  int64\n",
      "shape(y_test) =  (25000, 1)  dtype(y_test) =  int32\n",
      "Top 5 training examples:\n",
      "[#1]\t [0]\n",
      "\t [4904  339 2920  339   11    2  174   65    3    2]\n",
      "\t silent night deadly night is the very last of the series and like part it s unrelated to the first three except by title and the fact that it s\n",
      "[#2]\t [1]\n",
      "\t [    2  1072 24523     7   174   595   295    14     7   494]\n",
      "\t the idea ia a very short film with a lot of information interesting entertaining and leaves the viewer wanting more the producer has produced a short film of excellent quality\n",
      "[#3]\t [0]\n",
      "\t [   8  262   30  926  105 1589    4  743   10   39]\n",
      "\t for me this movie just seemed to fall on its face the main problem for me was the casting of glover as a serial killer i don t know whether\n",
      "[#4]\t [1]\n",
      "\t [  12   30  223   10    7 3935  503    7  897  170]\n",
      "\t was this based on a comic book a video game a drawing by a year old\n",
      "[#5]\t [1]\n",
      "\t [ 6681    92  3288 29045     0     0     0     0     0     0]\n",
      "\t caution may contain spoilers\n"
     ]
    }
   ],
   "source": [
    "def print_stats(ds):\n",
    "\n",
    "    print('Number of Raw Training records: {} examples, {} labels '.format(\n",
    "        len(ds.raw_train.data), len(ds.raw_train.target)))\n",
    "    print('Number of Raw Test records: {} examples, {} labels '.format(\n",
    "        len(ds.raw_test.data), len(ds.raw_test.target)))\n",
    "    print('Target Names:', ds.raw_train.target_names)\n",
    "\n",
    "    print('Label distribution in Training Set')\n",
    "    print(np.asarray(np.unique(ds.raw_train.target, return_counts=True)).T)\n",
    "    print('Label distribution in Test Set')\n",
    "    print(np.asarray(np.unique(ds.raw_test.target, return_counts=True)).T)\n",
    "\n",
    "    print('Vocab Size: ', len(ds.vocab))\n",
    "    print('shape(word_embeddings): ', ds.word_embeddings.shape)\n",
    "    print('Top 5 Words in word2index map', ['{}({})'.format(w, i) for w, i in ds.word2index.items() if i <= 5])\n",
    "\n",
    "    print('shape(X_train) = ', ds.X_train.shape, ' dtype(X_train) = ', ds.X_train.dtype)\n",
    "    print('shape(y_train) = ', ds.y_train.shape, ' dtype(y_train) = ', ds.y_train.dtype)\n",
    "    print('shape(X_test) = ', ds.X_test.shape, ' dtype(X_test) = ', ds.X_test.dtype)\n",
    "    print('shape(y_test) = ', ds.y_test.shape, ' dtype(y_test) = ', ds.y_test.dtype)\n",
    "\n",
    "    print('Top 5 training examples:')\n",
    "    for i in range(5):\n",
    "        print('[#{}]\\t {}'.format(i + 1, ds.y_train[i]))\n",
    "        print('\\t', ds.X_train[i][:10])\n",
    "        print('\\t', ' '.join(ds.raw_train.data[i].split()[:30]))\n",
    "        \n",
    "print_stats(ds)"
   ]
  },
  {
   "cell_type": "code",
   "execution_count": 4,
   "metadata": {},
   "outputs": [
    {
     "name": "stdout",
     "output_type": "stream",
     "text": [
      "Number of Training Examples: 4500, Labels: 4500\n",
      "Number of Validation Examples: 500, Labels: 500\n",
      "Label distribution in Training Set\n",
      "[[   0 2270]\n",
      " [   1 2230]]\n",
      "Label distribution in Validation Set\n",
      "[[  0 245]\n",
      " [  1 255]]\n"
     ]
    }
   ],
   "source": [
    "maxN = min(5000, len(ds.X_train)) \n",
    "split = int(0.9 * maxN)\n",
    "\n",
    "X_train = ds.X_train[0:split]\n",
    "y_train = ds.y_train[0:split]\n",
    "X_train_seqlen = ds.X_train_seqlen[0:split]\n",
    "\n",
    "X_val = ds.X_train[split:maxN]\n",
    "y_val = ds.y_train[split:maxN]\n",
    "X_val_seqlen = ds.X_train_seqlen[split:maxN]\n",
    "\n",
    "word_embeddings = ds.word_embeddings\n",
    "\n",
    "print('Number of Training Examples: {}, Labels: {}'.format(len(X_train), len(y_train)))\n",
    "print('Number of Validation Examples: {}, Labels: {}'.format(len(X_val), len(y_val)))\n",
    "\n",
    "print('Label distribution in Training Set')\n",
    "print(np.asarray(np.unique(y_train, return_counts=True)).T)\n",
    "print('Label distribution in Validation Set')\n",
    "print(np.asarray(np.unique(y_val, return_counts=True)).T)"
   ]
  },
  {
   "cell_type": "code",
   "execution_count": 5,
   "metadata": {},
   "outputs": [],
   "source": [
    "config = Bunch()\n",
    "config.vocab_size, config.embed_size = word_embeddings.shape\n",
    "config.batch_size = 64\n",
    "config.lr = 0.01\n",
    "config.hidden_size = 50\n",
    "config.num_lstm_layers = 2\n",
    "config.dropout_keep = 1 # if <1 (e.g. 0.8, then loss will fluctuate every epoch, will not decrease monotonously)\n",
    "config.isBidirectional = True\n",
    "config.output_size = 1"
   ]
  },
  {
   "cell_type": "code",
   "execution_count": 6,
   "metadata": {},
   "outputs": [],
   "source": [
    "from helpers.TextRNN import TextRNN\n",
    "from helpers.evaluate import evaluate_model\n",
    "import torch.optim as optim\n",
    "\n",
    "model = TextRNN(config,  torch.from_numpy(word_embeddings).type(torch.FloatTensor))\n",
    "\n",
    "optimizer = optim.Adam(model.parameters(), lr=config.lr)\n",
    "loss_op = nn.BCELoss()  # binary cross entropy loss\n",
    "\n",
    "model.set_optimizer(optimizer)\n",
    "model.set_loss_op(loss_op)\n",
    "\n",
    "epoch_losses = []\n",
    "epoch_metrics = []"
   ]
  },
  {
   "cell_type": "code",
   "execution_count": 7,
   "metadata": {},
   "outputs": [
    {
     "name": "stdout",
     "output_type": "stream",
     "text": [
      "Epoch: 1, Loss: 0.6960972760404859, Training: 56.800% (=2556/4500), Validation: 46.000% (=230/500)\n",
      "Epoch: 2, Loss: 0.6842866701739175, Training: 63.800% (=2871/4500), Validation: 48.000% (=240/500)\n",
      "Epoch: 3, Loss: 0.6413776942661831, Training: 72.889% (=3280/4500), Validation: 47.400% (=237/500)\n",
      "Epoch: 4, Loss: 0.5374668100050517, Training: 79.222% (=3565/4500), Validation: 48.000% (=240/500)\n",
      "Epoch: 5, Loss: 0.45326635496956963, Training: 84.022% (=3781/4500), Validation: 45.000% (=225/500)\n",
      "Epoch: 6, Loss: 0.35952339938708716, Training: 86.711% (=3902/4500), Validation: 47.200% (=236/500)\n",
      "Epoch: 7, Loss: 0.2837595888546535, Training: 91.178% (=4103/4500), Validation: 48.200% (=241/500)\n",
      "Epoch: 8, Loss: 0.2046896280986922, Training: 93.933% (=4227/4500), Validation: 49.400% (=247/500)\n",
      "Epoch: 9, Loss: 0.17219929280025617, Training: 96.000% (=4320/4500), Validation: 51.800% (=259/500)\n",
      "Epoch: 10, Loss: 0.13121933309095246, Training: 97.578% (=4391/4500), Validation: 47.200% (=236/500)\n"
     ]
    }
   ],
   "source": [
    "for epoch in range(10):\n",
    "    epoch_loss = model.run_epoch(X_train, y_train, X_train_seqlen)\n",
    "\n",
    "    accuracy1, correct1, total1 = evaluate_model(model, X_train, y_train, X_train_seqlen, config.batch_size)\n",
    "    accuracy2, correct2, total2 = evaluate_model(model, X_val, y_val, X_val_seqlen, config.batch_size)\n",
    "\n",
    "    epoch_losses.append(epoch_loss)\n",
    "    epoch_metrics.append('Training: {:.3f}% (={}/{}), Validation: {:.3f}% (={}/{})'.format(accuracy1, correct1, total1, accuracy2, correct2, total2))\n",
    "    print('Epoch: {}, Loss: {}, {}'.format(epoch+1, epoch_losses[-1], epoch_metrics[-1]))"
   ]
  },
  {
   "cell_type": "code",
   "execution_count": 10,
   "metadata": {},
   "outputs": [
    {
     "data": {
      "image/png": "[encoded data removed]",
      "text/plain": [
       "<Figure size 432x288 with 1 Axes>"
      ]
     },
     "metadata": {
      "needs_background": "light"
     },
     "output_type": "display_data"
    }
   ],
   "source": [
    "plt.plot(epoch_losses)\n",
    "plt.ylabel('Loss')\n",
    "plt.xlabel('Epoch')\n",
    "plt.show()"
   ]
  }
 ],
 "metadata": {
  "kernelspec": {
   "display_name": "Python 3",
   "language": "python",
   "name": "python3"
  },
  "language_info": {
   "codemirror_mode": {
    "name": "ipython",
    "version": 3
   },
   "file_extension": ".py",
   "mimetype": "text/x-python",
   "name": "python",
   "nbconvert_exporter": "python",
   "pygments_lexer": "ipython3",
   "version": "3.6.8"
  }
 },
 "nbformat": 4,
 "nbformat_minor": 2
}
